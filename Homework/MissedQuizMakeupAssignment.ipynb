{
 "cells": [
  {
   "cell_type": "markdown",
   "metadata": {},
   "source": [
    "# Missed Quiz Make Up \n",
    "\n",
    "This assignment is optional, and can be used to make up ONE missed quiz (a quis you did not take and have a score of 0 on). **IN YOUR README, YOU MUST SPECIFY WHICH QUIZ you missed that this makes up for, otherwise your missed quiz score will not be replaced by this assignment.**\n",
    "\n",
    "You will be turning in:\n",
    "\n",
    "1. A [README.md](https://github.com/cmparlettpelleriti/CPSC392ParlettPelleriti/blob/master/Admin/READMEexample.md) with all the relevant information\n",
    "2. An .ipynb or .py with just your code (show all code necessary for the analysis, but remove superfluous code)\n",
    "3. A PDF with your Report (rendered via Google Docs)\n",
    "\n"
   ]
  },
  {
   "cell_type": "markdown",
   "metadata": {},
   "source": [
    "## Data\n",
    "We're going to build a Neural Network to predict which number a picture is of. The possible digits are 0,1,2,3,4,5,6,7,8, or 9. Each image contains only one digit, and has 784 pixels (it's a 28x28 grayscale image). We're going to treat each pixel as a feature. So think of it like having 784 columns. Each column tells you the color value of that pixel in the image. \n",
    "\n",
    "\n",
    "\n",
    "<center><img src=\"https://drive.google.com/uc?export=view&id=1KyFXUVjD7iLJgQYKwr-vWZp5HeAXEHuo\" alt=\"mnist data\" width = \"500px\" /></center>\n",
    "\n",
    "\n",
    "## Modelling\n",
    "### Logistic Regression\n",
    "- Using sklearn `Pipelines`, build a logistic regression model to predict digit (similarly to how we built a Decision Tree in class).\n",
    "- Print out the accuracy (`accuracy_score`) for both the train and test sets.\n",
    "\n",
    "\n",
    "### Deep Neural Network\n",
    "- Take the Neural Network [we built together in class](https://colab.research.google.com/drive/1QxEIJw6NzjgLP-Fy1f2fo4uGeUGUb7ss?usp=sharing) and make it DEEP. Add *at least* 5 **more** `Dense` layers to your model. Remember, we typically go from more units to less units.\n",
    "- Train the model for at least 100 Epochs (this may take a while)\n",
    "- Print out the accuracy score (`model.evaluate()`) for both the train and test sets\n",
    "\n",
    "\n",
    "## Questions\n",
    "\n",
    "Now that you've built your models, answer these questions to you learn more about Neural Networks. Some of these questions may require you to do some outside research with your group, others might require information from the lecture, and others are about the models you built. Put the answer to these questions in your **Results** section in your report.\n",
    "\n",
    "1. How do your models perform (discuss accuracy, overfitting for both train/test)? Is one model better than the other? Are you surprised by which one did better?\n",
    "2. 💻 What is the job of a loss function in general? What specific **loss function** does your model use? Why is this loss function appropriate for predicting digits (0-9)\n",
    "3. 💻 What is an activation function? What activation function did we use in your Neural Network? Why is this activation function appropriate for predicting digits (0-9)\n",
    "4. What's the benefit of using Deep Neural Networks compared to simpler models like Logistic Regression, Decision Trees...etc?"
   ]
  },
  {
   "cell_type": "markdown",
   "metadata": {},
   "source": [
    "\n",
    "## Report\n",
    "\n",
    "[DOCS TEMPLATE HERE](https://docs.google.com/document/d/1lCTtpS0Yw-3LMh2QlfVvmZ_5u1_HXtCHnhBPRxlfvqs/edit?usp=sharing)\n",
    "\n",
    "Your Technical Report is a way to practice presenting and formatting your results like you would in industry. Make sure your report and **plots** are clear, and explain things clearly. Write a report that has the following sections:\n",
    "\n",
    "1. **Introduction**: description of the problem (e.g. what are you predicting? How might this model be useful if you are successful). You should end with a sentence or two about what the impact of these models could be.\n",
    "\n",
    "2. **Methods**: describe your models in detail (as if explaining them to someone who's not a data scientist, like a CEO), as well as any pre-processing you had to do to the data.\n",
    "\n",
    "3. **Results**: Describe the performance of your models, and answer the questions listed in the cell above.\n",
    "\n",
    "4. **Discussion/Reflection**: A few sentences about what you learned from performing these analyses, and at least one suggestion for what you'd add or do differently if you were to perform this analysis again in the future."
   ]
  }
 ],
 "metadata": {
  "language_info": {
   "name": "python"
  }
 },
 "nbformat": 4,
 "nbformat_minor": 2
}
