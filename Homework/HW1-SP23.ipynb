{
 "cells": [
  {
   "attachments": {},
   "cell_type": "markdown",
   "metadata": {},
   "source": [
    "# Homework 1\n",
    "GENERAL INSTRUCTIONS:\n",
    "\n",
    "- For all ggplots, make sure you make changes so that the data viz is effective, clear, and does not contain distracting elements, graphs will be graded both on correctness (did you plot the right hting) as well as on effectiveness (does this graph thoughtfully demonstrate the principles we learned in our data viz lectures).\n",
    "- Written/Discussion answers must be in Markdown Cells\n",
    "- CLEARLY mark where you are answering each question (see [here](https://github.com/cmparlettpelleriti/CPSC392ParlettPelleriti/blob/master/Extras/HW1_Format%20Example.ipynb) for an example format).\n",
    "- Show all code necessary for the analysis, but remove superfluous code\n",
    "\n",
    "Using the dataset linked [here](https://raw.githubusercontent.com/cmparlettpelleriti/CPSC392ParlettPelleriti/master/Data/bis-bas-bart-syn-clean.csv), <strong>build a linear regression model to predict *BART* (the adjusted number of clicks from the BART task) from a lab based cognitive task using all the other variables as predictors.</strong> This data is synthetic data based on [this study](https://osf.io/uhr8v).\n",
    "\n",
    "### Variables\n",
    "- `BART`: the adjusted number of clicks for successful trials in the BART task. Higher numbers mean [higher risk taking behavior](http://www.impulsivity.org/measurement/bart/).\n",
    "- `BIS.Score`: Behavioral Inhibition System, which regulates how aversive motives (how people move away from something unpleasant)\n",
    "- `BAS.Drive.Score`: Behavioral Approach System, Drive, which focuses on the persistent pursuit of desired goals.\n",
    "- `BAS.Fun.Seeking.Score`: Behavioral Approach System, Fun Seeking, which focuses on the desire for new rewards and the willingness to approach a potentially rewarding event on the spur of the moment. \n",
    "- `BAS.Reward.Responsiveness.Score`: Behavioral Approach System, Responsiveness, which focuses on positive responses to (or in anticipation of) a reward\n",
    "- `Age`: Age in years at time of study\n",
    "- `Female`: Whether or not the person was female (1) or not female (0)\n",
    "\n",
    "* more on bis/bas [here](https://arc.psych.wisc.edu/self-report/behavioral-activation-and-behavioral-inhibition-scales-bai/)\n",
    "\n",
    "\n",
    "### Instructions\n",
    " \n",
    "- a) drop any missing values, and create an 80/20 train test split for model validation\n",
    "- b) z score your continuous/interval variables only\n",
    "- c) build/train your model\n",
    "- d) print out the mean <em>absolute</em> error for both <em>train</em> and <em>test</em> and R^2 for your model for both <em>train</em> and <em>test</em>. \n",
    "- e) use ggplot to make a bar chart showing the coefficient values (x should be each coef name, the height of each bar should be the value of the coefficient). DO NOT include the intercept in this plot.\n",
    "- f) in a Markdown cell, <strong>discuss</strong> which predictors have positive vs. negative relationships with BART scores, as well as which ONE variable has the biggest impact on BART score. \n",
    "- g) load in [this \"future\" dataset](https://raw.githubusercontent.com/cmparlettpelleriti/CPSC392ParlettPelleriti/master/Data/bis-bas-bart-syn-future.csv) that does NOT contain BART scores, and use your existing model to predict the BART for each person. Imagine you're a recruiter who only wants to hire people who are very risk averse (i.e. they do NOT exhibit high levels of risk taking behavior). Use python to grab the 10 rows (people) from this \"future\" dataset with the lowest predicted BART values, so that you can recruit them to work for you. Show these rows in your notebook.\n",
    "- h) based on the performance of your model (calculated in d), discuss how much you trust the predictions you made in g, and why you feel that way."
   ]
  }
 ],
 "metadata": {
  "kernelspec": {
   "display_name": "Python 3.8.9 64-bit",
   "language": "python",
   "name": "python3"
  },
  "language_info": {
   "name": "python",
   "version": "3.7.3 (default, Apr 24 2020, 18:51:23) \n[Clang 11.0.3 (clang-1103.0.32.62)]"
  },
  "orig_nbformat": 4,
  "vscode": {
   "interpreter": {
    "hash": "31f2aee4e71d21fbe5cf8b01ff0e069b9275f58929596ceb00d14d90e3e16cd6"
   }
  }
 },
 "nbformat": 4,
 "nbformat_minor": 2
}
