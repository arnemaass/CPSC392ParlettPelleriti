{
 "cells": [
  {
   "cell_type": "markdown",
   "metadata": {},
   "source": [
    "# Homework 2\n",
    "Homeworks are an individual assessment, you should not work in groups.\n",
    "\n",
    "You will be turning in:\n",
    "\n",
    "1. A [README.md](https://github.com/cmparlettpelleriti/CPSC392ParlettPelleriti/blob/master/Admin/READMEexample.md) with all the relevant information\n",
    "2. An .ipynb with your code (show all code necessary for the analysis, but remove superfluous code)\n",
    "3. A PDF with your Report \n",
    "\n",
    "\n",
    "## Data\n",
    "We're going to be using some [business churn data](https://raw.githubusercontent.com/cmparlettpelleriti/CPSC392ParlettPelleriti/master/Data/streaming.csv) to help a streaming service predict whether customers will \"churn\" (a.k.a. stop being a customer). The variables include:\n",
    "\n",
    "- `gender`: self-disclosed gender identity, `male`, `female`, `nonbinary` or `other`\n",
    "- `age`: age in years\n",
    "- `income`: self-reported annual income in thousands\n",
    "- `monthssubbed`: months subscribed to the service.\n",
    "- `plan`: the plan the user is currently subscribed to, `P` for premium, `A` for ad-free, `B` for basic (with ads)\n",
    "- `meanhourswatched`: mean hours of content watched per month\n",
    "- `competitorsub`: whether or not the customer is subscribed to your competitor's streaming service `0` for no, `1` for yes\n",
    "- `topgenre`: most common genre of content the user watches, includes many categories.\n",
    "- `secondgenre`: second most common genre of content the user watches, includes many categories.\n",
    "- `numprofiles`: number of user profiles associated with the account.\n",
    "- `cancelled`: whether or not the user has cancelled the servce in the past, `0` for no, `1` for yes\n",
    "- `downgraded`: whether or not the user has downgraded the servce at some point in the past (Premium is the highest plan, then Ad Free, then Basic), `0` for no, `1` for yes\n",
    "- `bundle`: whether or not the user purchased their plan as a \"bundle\" with another service, `0` for no, `1` for yes\n",
    "- `kids`: whether or not the user has an active Kids profile on their account, `0` for no, `1` for yes\n",
    "- `longestsession`: the length of the longest watch session from the user, in minutes\n",
    "- `churn`: whether or not the customer has \"churned\" (i.e. left the service), `0` for no, `1` for yes\n",
    "\n",
    "## 1. Modeling\n",
    "- Drop Missing Values and Reset Indices if needed.\n",
    "- Using *Train-Test-Split Model Validation* with an 90/10 split and `sklearn` `Pipeline`s, build **two** models (**Logistic Regression**, and **Gradient Boosting Tree**) that predict `churn` using all the other variables.\n",
    "- Z-score continuous/interval variables, and One Hot Encode categorical variables (when needed) before fitting your models.\n",
    "- Once the modela are trained, calculate the *Accuracy, Recall, Precision, and ROC AUC* for both the training and testing sets for both models.\n",
    "- Assess the **calibration** for the **test set** of both models.\n",
    "- Choose whichever model you think performed the best and use it in the Recommendation System part (below)\n"
   ]
  },
  {
   "cell_type": "markdown",
   "metadata": {},
   "source": [
    "\n",
    "## 2. Reccomendation System\n",
    "\n",
    "Instructions for part II are based on an activity we do in class this coming Monday 3/25 or Tuesday 3/26 (depending on when you have class). Instructions will be added at that point.\n"
   ]
  },
  {
   "cell_type": "markdown",
   "metadata": {},
   "source": [
    "\n",
    "## 3. Report\n",
    "\n",
    "[TEMPLATE HERE](https://docs.google.com/document/d/10IgKNGkou-vedkKxXhw7aBxh9x48_z27eMnNq8KpdPw/edit?usp=sharing)\n",
    "\n",
    "Your Technical Report is a way to practice presenting and formatting your results like you would in industry. Make sure your report is clear, and explains things clearly. Write a report that has the following sections:\n",
    "\n",
    "1. **Introduction**: description of the problem (e.g. what are you predicting? what variables do you have available? How might this model be useful if you are successful). You should end with a sentence or two about what the impact of these models could be.\n",
    "\n",
    "2. **Methods**: describe your models in detail (as if explaining them to the CEO of the streaming service), as well as any pre-processing you had to do to the data.\n",
    "\n",
    "3. **Results**: How well did your models perform according to the various metrics, were the models overfit (how can you tell)? What do those performance metrics (Acc, Precision, Recall, ROC AUC, Calibration...) tell you about the model? How much do you trust the results of your models? **Which one model would you choose to put \"in production\"? What are the pros and cons of each model (think about model performance, time/space complexity, interpretability...etc)**. Is the model well calibrated? Does that matter? How would you suggest the CEO use the classification model you chose? How would you suggest the CEO strategically use the movie suggestions you generated? \n",
    "\n",
    "4. **Discussion/Reflection**: A few sentences about what you learned from performing these analyses, and at least one suggestion for what you'd add or do differently if you were to perform this analysis again in the future."
   ]
  }
 ],
 "metadata": {
  "language_info": {
   "name": "python"
  },
  "orig_nbformat": 4
 },
 "nbformat": 4,
 "nbformat_minor": 2
}
