{
 "cells": [
  {
   "cell_type": "markdown",
   "metadata": {},
   "source": [
    "# HW3\n",
    "\n",
    "## GENERAL INSTRUCTIONS:\n",
    "\n",
    "- **CLEARLY** mark where you are answering each question (all written questions must be answered in Markdown cells, NOT as comments in code cells)\n",
    "- Show all code necessary for the analysis, but remove superfluous code\n",
    "\n",
    "---\n",
    "\n",
    "# Instructions\n",
    "Using the dataset [here](https://raw.githubusercontent.com/cmparlettpelleriti/CPSC392ParlettPelleriti/master/Data/HW4_1.csv),\n",
    "\n",
    "- **a) (25 points)** Build a Linear Regression Model to predict `y` from all the `X` variables (`X1` to `X50`).\n",
    "    - Use TTS with a 90/10 split (since data is large)\n",
    "    - z-score your predictors\n",
    "    - record the MSE/R2 for both training/test sets\n",
    "\n",
    "- **b) (60 points)** Build a NEW Linear Regression Model, but using PCA:\n",
    "    - Using the same train/test split from a...\n",
    "    - z-score your predictors (if not already z scored)\n",
    "    - train PCA on the *training set*.\n",
    "    - make a cumulative variance plot\n",
    "    - Figure out how many PCs you need to keep to retain 90% of the original variance.\n",
    "    - Use the fitted PCA model (with the number of components you decided on above) to create those component scores for both *training* and *test* set. DO NOT refit the PCA model on the test set.\n",
    "    - fit your model using these components and record the MSE/R2 for both training/test sets\n",
    "    \n",
    "- **c) (15 points)** Thouroughly discuss whether *for this data set* you would choose to use the full data, or the Principal Components selected in part b, what are the advantages/disadvantages? (*IN A MARKDOWN CELL*)"
   ]
  }
 ],
 "metadata": {
  "kernelspec": {
   "display_name": "Python 3.8.9 64-bit",
   "language": "python",
   "name": "python3"
  },
  "language_info": {
   "name": "python",
   "version": "3.8.9"
  },
  "orig_nbformat": 4,
  "vscode": {
   "interpreter": {
    "hash": "31f2aee4e71d21fbe5cf8b01ff0e069b9275f58929596ceb00d14d90e3e16cd6"
   }
  }
 },
 "nbformat": 4,
 "nbformat_minor": 2
}
