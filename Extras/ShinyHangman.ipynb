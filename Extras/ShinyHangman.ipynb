{
 "cells": [
  {
   "cell_type": "markdown",
   "metadata": {},
   "source": [
    "# `hangman()` Function\n",
    "Write a function `hangman()` that takes in two arguments, `phrase` (a string), and `letters_guessed` (a list of letters guessed; all uppercase! e.g. `[\"C\", \"L\", \"T\"]`).\n",
    "\n",
    "The function should generate and return a hangman string like the one you'd show when playing the game hangman.\n",
    "\n",
    "If a user HAS guessed a letter in the phrase (case doesn't matter), your string should display that letter. If they haven't guessed it, it should display an underscore (as a blank). Spaces and punctuation like `[\" \", \"'\", \"-\", \".\", \",\"]` should ALWAYS be shown in the string. \n",
    "\n",
    "So, for example, if the hangman phrase to guess was `\"i love python\"` and letters_guessed was `[\"P\", \"Y\", \"L\"]` you should return\n",
    "\n",
    "```\n",
    "\"_ l___ py____\"\n",
    "```\n",
    "\n",
    "If the hangman phrase was `\"Can't stop the Beat\"` and letters_guessed was `[\"C\", \"B\", \"A\"]` then you should return\n",
    "\n",
    "```\n",
    "\"Ca_'_ ____ ___ B_a_\"\n",
    "```\n",
    "\n",
    "# Playing Hangman\n",
    "Once you've written and tested your function, open [this link](https://shinylive.io/py/editor/#code=NobwRAdghgtgpmAXGKAHVA6VBPMAaMAYwHsIAXOcpMAMwCdiYACAZwAsBLCbJjmVYnTJMAgujxM6lACZw6EgK4cJUqITIcAbnAA6EPgKGSoEaYz0HBwlmTpcA5nvqMmbE-ZgmaCiIV78rV3dPCD0ACREAOQBxAFkogAUASQBhAGUmAF4mYAByfL0mJgBqAFpy4sKmAB8imqq6+ohGouqGurbmls7M3r6+-NyJQaqyiqra1qqAeQ72qa7Gzpam-rXB4YKusdLKrsmmotmF1rnFs5WetYH8zdzR8t2Ji6Zjw4B6A+Xu+dXr3o2TBG20ee1OJ1eF0+Oh0EKWvyu-0BwKKOzBNReb2W0NhH3h5wW-wBtyBW1RoOeEKxhRxJ3eTBhcLORMygwAunpOdB0AB9JRZJhKLBQexwHk0AA2SmkAAp2kK2ABGOVgMLBExMBLYMhsUiauhqDSEXRgACUeHlHCwMvNlowXFQCjIPMNHFIPIARk6yKQVfZiDp8AywAkADIiACaTAiMXikUDtvOQtQNotSatxCdjudFAAHs7tHQPVANDAVSEE2nGkLM2Rszy8wW5MXSyqyPnKw09KauXpZDRWHJCzKHU6JLXsxIWHAWCw3RBTYh2gB3QTSAWqdRaOAYABqUClcBVCfaErgZAodBYPPsChn0-X2U3Gm0e4Pd5lwDZPfObgg9g3OBXVffdDxlUpFR-RoWGICVtEfSQgK3ED3yPAAxA9pyguppA4OAEOfbc3zAjCJSw9p2gAAUI18AFEaBoOB1BtKiaJ3OBtHIEcIGzDB-Wwop+yYHkbSXAk6lXOhpBYAVgEDaYPQAKyY4RpjsSgKHXBIGHsA0YBgBxAwkQMkiYUNiG0TVtV1UIg0DNCfC3UgZKgKQmGiVQyCMhlxJWRpA0iWAZ1QNQZ28wNQw4GwmBSRhUCkNhKDnUhwpDay9ViYhpAUM8WFSyKbBYCQABEOCc6B1KKpgTHXAAVBRUFyozfj8upAxEaROLIBQ3OiILUoAIRLMgz3sfq7LASwjANUxzAmqbhE8HVUpwHURUEIDmh1OANpgZrfNa4MkhknUoqYeK+BNDkDsk6QMGnMgZRmswYAwQhdTKo9bpYU0BJaM8Lzka9b3vfD7vPT9vxaoJ-3Bx6AAY-urK0pBgCyxSUGVpzPdRBAFQNcM0RA3BYGUAD4mAAYgBy8ezNKs-KFVH0b5DgsbgHGfTofGwAwP8PBMUopBYHKvPp6GhS4achFZuUDuR+0eKdBs4HzFUabkfLz0vJhauIdy71nTt5bqbGVMETJA0p9sxYZw6mGXRKpEtlAaEvWjTH21qf1YpCXx3ejGOYv7qL9oiOI07jeI1ug-qEkTF2hynBRRuA0e0WWzdx7nsgJrRiagUmKep7W5DpxNWuTyWIGl51MaTlpq-rRt1dLugtcB7m9YN+9jcrlos65l3rY7fAG8aR25DgF2oDduQPekL2-OT01WuhiUBRj4HDYfPiIaRuoOAHUcyAwGObV4ZobDsWHC8IDgOB5CViGXORCELuAmDxk+z7bi+uFYLYBwGA74Pz5OgN+H8xL2yKBKEBEDTBRydL-TuNoMANVQHIG0B8VhbxvDvMGD0ZQShwS0I+l9o5-1NOgiBdAL4QGIMIABt096PWoRgrBicTYrDYAKfmrCWLcJaLw4o2RFTQ1avwohbBSGtQulxGREi-LyMeoGR4pQTxCMaCo4hlAZQxjiIkVIaRfpKJWOQ3hZNshnggPoqIhjIjJHSKaCC0CYGtSZmnFmmNB541zmAQmBci5UxjuXO27jG5WilnIOubMzEROTCqCM0wACqZlphpFogAQm8oQCUhdrw8z5uqCAQsZyiz7hE+2vic7BhHrbeJ7jJ5uX8bPd2nswCNL8rImBnj04YzZjUnmgSSbkxCW3MJXT7a9gOpRCcTpoah1MHIDAjZoZCRCKJeJUhup0FsQYuMTi0jAH4aKNhUMhGLPmV5WZUhll0FWarG5rUhI2y2UI5cAoWFnMEe42sfCSkylQGwA004vkSDwSDWc+FN5t23qDO6PzTFCPIf83oDs3FVL6d4wZHNza1LzkTUZxdQmVKxVEmuMTZZTMidaQMyS0kAHVpiRByUGPJBSeRFP5iEMpIsJRiwrlUgeeLs483qUvYVEknaf1aXPOgC9Aw0p6UUHZPVbG1h9qEbkqABRiBTGgVArMpxDjLnoMAABfNkQA) and click the little `+` icon near the top to add a file.\n",
    "<img src=\"https://drive.google.com/uc?export=view&id=1CElRF3DbzmUNONJjS0kwUWDnc1IwZjM_\" alt=\"Q\"/>\n",
    "\n",
    "\n",
    "Call the file `hangmanfunc.py` and paste your function into it. Then click the little play button at the top right to play hangman using your function!\n",
    "\n",
    "<img src=\"https://drive.google.com/uc?export=view&id=1WB2mCtwXBqNM5KkThVlBL6QIrugiZbZS\" alt=\"Q\"/>\n"
   ]
  }
 ],
 "metadata": {
  "kernelspec": {
   "display_name": "Python 3.8.1 64-bit",
   "language": "python",
   "name": "python3"
  },
  "language_info": {
   "name": "python",
   "version": "3.8.1"
  },
  "orig_nbformat": 4,
  "vscode": {
   "interpreter": {
    "hash": "aee8b7b246df8f9039afb4144a1f6fd8d2ca17a180786b69acc140d282b71a49"
   }
  }
 },
 "nbformat": 4,
 "nbformat_minor": 2
}
