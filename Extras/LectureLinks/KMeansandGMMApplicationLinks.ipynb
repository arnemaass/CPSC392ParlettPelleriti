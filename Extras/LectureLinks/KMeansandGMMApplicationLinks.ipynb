{
 "cells": [
  {
   "cell_type": "markdown",
   "metadata": {},
   "source": [
    "# KMeans and GMM Application Links\n",
    "\n",
    "## KMeans\n",
    "* [Leaf Disease Image Segmentation](https://ieeexplore.ieee.org/document/7569531)\n",
    "* [Movie Recommendation](https://www.researchgate.net/profile/Arun-Solanki/publication/334763301_Movie_Recommender_System_Using_K-Means_Clustering_AND_K-Nearest_Neighbor/links/5ed727a7299bf1c67d34e356/Movie-Recommender-System-Using-K-Means-Clustering-AND-K-Nearest-Neighbor.pdf)\n",
    "\n",
    "## GMM\n",
    "* [Cell Image Segmentation](https://scipy-lectures.org/advanced/image_processing/auto_examples/plot_GMM.html)\n",
    "* [Anomaly Detection for Flights](https://www.sciencedirect.com/science/article/abs/pii/S0968090X16000188)\n",
    "* [Image Restoration](https://ieeexplore.ieee.org/document/7128671)\n",
    "* [Total Daily Energy Use Profiling](https://www.sciencedirect.com/science/article/pii/S0306261918313606?casa_token=ISbTRYcOzcYAAAAA:p2OBUhbFBenVK6aXGaVbJ4p2WRsmpa0y6bB8Uw3LSmjx8kPkhLyKVCx8gtOJ0cXDUFf07fNdDdHr)"
   ]
  }
 ],
 "metadata": {
  "language_info": {
   "name": "python"
  },
  "orig_nbformat": 4
 },
 "nbformat": 4,
 "nbformat_minor": 2
}
