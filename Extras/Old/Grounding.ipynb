{
 "cells": [
  {
   "cell_type": "code",
   "execution_count": 3,
   "metadata": {},
   "outputs": [],
   "source": [
    "import numpy as np"
   ]
  },
  {
   "cell_type": "code",
   "execution_count": 4,
   "metadata": {},
   "outputs": [
    {
     "name": "stdout",
     "output_type": "stream",
     "text": [
      "HarryPotterCharacters \n",
      "\n",
      "\n",
      "A:\n",
      "B:\n",
      "C:\n",
      "D:\n",
      "E:\n",
      "F:\n",
      "G:\n",
      "H:\n",
      "I:\n",
      "J:\n",
      "K:\n",
      "L:\n",
      "M:\n",
      "N:\n",
      "O:\n",
      "P:\n",
      "Q:\n",
      "R:\n",
      "S:\n",
      "T:\n",
      "U:\n",
      "V:\n",
      "W:\n",
      "X:\n",
      "Y:\n",
      "Z:\n"
     ]
    }
   ],
   "source": [
    "choices = open(\"grounding.txt\", \"r\") # read in text file\n",
    "choices_string = str(choices.read()) # store lines\n",
    "\n",
    "# strip white space and split into list\n",
    "choices_list = choices_string.replace(\" \", \"\").replace(\"\\n\", \"\").split(\",\")\n",
    "\n",
    "# randomly select category\n",
    "print(np.random.choice(choices_list), \"\\n\\n\")\n",
    "\n",
    "print(\"A:\\nB:\\nC:\\nD:\\nE:\\nF:\\nG:\\nH:\\nI:\\nJ:\\nK:\\nL:\\nM:\\nN:\\nO:\\nP:\\nQ:\\nR:\\nS:\\nT:\\nU:\\nV:\\nW:\\nX:\\nY:\\nZ:\")"
   ]
  },
  {
   "cell_type": "code",
   "execution_count": null,
   "metadata": {},
   "outputs": [],
   "source": []
  }
 ],
 "metadata": {
  "hide_input": false,
  "kernelspec": {
   "display_name": "Python 3",
   "language": "python",
   "name": "python3"
  },
  "language_info": {
   "codemirror_mode": {
    "name": "ipython",
    "version": 3
   },
   "file_extension": ".py",
   "mimetype": "text/x-python",
   "name": "python",
   "nbconvert_exporter": "python",
   "pygments_lexer": "ipython3",
   "version": "3.7.3"
  },
  "toc": {
   "base_numbering": 1,
   "nav_menu": {},
   "number_sections": true,
   "sideBar": true,
   "skip_h1_title": false,
   "title_cell": "Table of Contents",
   "title_sidebar": "Contents",
   "toc_cell": false,
   "toc_position": {},
   "toc_section_display": true,
   "toc_window_display": false
  }
 },
 "nbformat": 4,
 "nbformat_minor": 4
}
