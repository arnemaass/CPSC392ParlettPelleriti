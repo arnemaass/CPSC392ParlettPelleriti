{
  "cells": [
    {
      "cell_type": "code",
      "execution_count": null,
      "metadata": {
        "id": "6WeXiSFyqc2I"
      },
      "outputs": [],
      "source": [
        "import warnings\n",
        "warnings.filterwarnings('ignore')\n",
        "\n",
        "\n",
        "import pandas as pd\n",
        "import numpy as np\n",
        "from plotnine import *\n",
        "\n",
        "from sklearn.preprocessing import StandardScaler #Z-score variables\n",
        "\n",
        "from sklearn.cluster import KMeans\n",
        "from sklearn.mixture import GaussianMixture\n",
        "\n",
        "from sklearn.metrics import silhouette_score, silhouette_samples\n",
        "\n",
        "%matplotlib inline"
      ]
    },
    {
      "cell_type": "markdown",
      "metadata": {
        "id": "7VcHWctYqc2J"
      },
      "source": [
        "# Ideas\n",
        "GMM assumes there are multiple normal distributions generating the data. Our goal is to figure out what those distributions are, and which data points belong to each one."
      ]
    },
    {
      "cell_type": "code",
      "execution_count": null,
      "metadata": {
        "id": "Tqs1V_v7qc2K"
      },
      "outputs": [],
      "source": [
        "np.random.seed(42)\n",
        "\n",
        "n = 100\n",
        "\n",
        "a = np.random.normal(size = n, loc = 0, scale = 1)\n",
        "b = np.random.normal(size = n, loc = 2, scale = 1)\n",
        "c = np.random.normal(size = n, loc = -2, scale = 2)\n",
        "\n",
        "combo = np.concatenate([a,b,c])\n",
        "\n",
        "label = np.repeat([\"a\",\"b\", \"c\"], n)\n",
        "\n",
        "df = pd.DataFrame({\"value\": combo, \"label\": label})\n",
        "\n",
        "print(ggplot(df,aes(x = \"value\", fill = \"label\")) + geom_density(alpha = 0.2) +\n",
        " labs(title = \"Density of Groups\") + theme_minimal())\n",
        "print(ggplot(df,aes(x = \"value\")) + geom_density(alpha = 0.2, fill = \"gray\") +\n",
        " labs(title = \"Density of all Data\") + theme_minimal())"
      ]
    },
    {
      "cell_type": "markdown",
      "metadata": {
        "id": "jTuJk43Mqc2L"
      },
      "source": [
        "# SKLEARN"
      ]
    },
    {
      "cell_type": "code",
      "execution_count": null,
      "metadata": {
        "id": "w3ZTIrbcqc2M"
      },
      "outputs": [],
      "source": [
        "bk = pd.read_csv(\"https://raw.githubusercontent.com/cmparlettpelleriti/CPSC392ParlettPelleriti/master/Data/burger-king-items.txt\",\n",
        "                sep='\\t')\n",
        "\n",
        "bk.head()"
      ]
    },
    {
      "cell_type": "code",
      "execution_count": null,
      "metadata": {
        "id": "HDWS7kGQr5xE"
      },
      "outputs": [],
      "source": [
        "# single GMM"
      ]
    },
    {
      "cell_type": "code",
      "execution_count": null,
      "metadata": {
        "id": "9Ux0SNfQqc2M"
      },
      "outputs": [],
      "source": [
        "features = [\"Calories\", \"Sodium(mg)\"]\n",
        "X = bk[features]\n",
        "\n",
        "z = StandardScaler()\n",
        "X[features] = z.fit_transform(X)\n",
        "\n",
        "ks = [2,3,4,5,6,7,8,9,10,11,12,13,14,15,16,17,18,19,20]\n",
        "\n",
        "sils = []\n"
      ]
    },
    {
      "cell_type": "code",
      "execution_count": null,
      "metadata": {
        "id": "B6AAKGmRqc2M"
      },
      "outputs": [],
      "source": [
        "# fit final model\n",
        "\n"
      ]
    },
    {
      "cell_type": "code",
      "execution_count": null,
      "metadata": {
        "id": "5TcNcprxqc2N"
      },
      "outputs": [],
      "source": [
        "\n",
        "# sil_points\n",
        "\n",
        "# add silhouette scores and clusters to X\n",
        "\n",
        "\n",
        "# sort X by cluster and silhouette score just to look better\n",
        "\n",
        "# number rows for graphing"
      ]
    },
    {
      "cell_type": "markdown",
      "metadata": {
        "id": "CbwPsXAtqc2N"
      },
      "source": [
        "# Multiple Dimensions"
      ]
    },
    {
      "cell_type": "code",
      "execution_count": null,
      "metadata": {
        "id": "MBg4oWmEqc2N"
      },
      "outputs": [],
      "source": [
        "# sugar protein fat"
      ]
    },
    {
      "cell_type": "code",
      "execution_count": null,
      "metadata": {
        "id": "JeMw8pk1qc2N"
      },
      "outputs": [],
      "source": [
        "# model"
      ]
    },
    {
      "cell_type": "code",
      "execution_count": null,
      "metadata": {
        "id": "jzTeBuS2qc2O"
      },
      "outputs": [],
      "source": [
        "# predictions"
      ]
    },
    {
      "cell_type": "code",
      "execution_count": null,
      "metadata": {
        "id": "1uhtlTIfqc2O"
      },
      "outputs": [],
      "source": [
        "# sil"
      ]
    },
    {
      "cell_type": "code",
      "execution_count": null,
      "metadata": {
        "id": "ZiAlmexbqc2O"
      },
      "outputs": [],
      "source": [
        "# probabilities"
      ]
    },
    {
      "cell_type": "code",
      "execution_count": null,
      "metadata": {
        "id": "H43HeZK8qc2O"
      },
      "outputs": [],
      "source": [
        "# graph"
      ]
    },
    {
      "cell_type": "code",
      "execution_count": null,
      "metadata": {
        "id": "XNXuBq69qc2P"
      },
      "outputs": [],
      "source": []
    },
    {
      "cell_type": "code",
      "execution_count": null,
      "metadata": {
        "id": "CBxYrZfpqc2P"
      },
      "outputs": [],
      "source": []
    },
    {
      "cell_type": "markdown",
      "metadata": {
        "id": "2xfH99mLqc2P"
      },
      "source": [
        "# Another Example"
      ]
    },
    {
      "cell_type": "code",
      "execution_count": null,
      "metadata": {
        "id": "kqXnBA9Lqc2P"
      },
      "outputs": [],
      "source": [
        "bey = pd.read_csv(\"https://raw.githubusercontent.com/cmparlettpelleriti/CPSC392ParlettPelleriti/master/Data/Beyonce_data.csv\")\n",
        "bey.head()"
      ]
    },
    {
      "cell_type": "code",
      "execution_count": null,
      "metadata": {
        "id": "E2ydg6zKqc2Q"
      },
      "outputs": [],
      "source": [
        "features = [\"speechiness\", \"acousticness\", \"instrumentalness\", \"liveness\", \"valence\"]\n",
        "\n",
        "\n",
        "# sil plot\n",
        "n_components = [2,3,4,5,6,7]\n"
      ]
    },
    {
      "cell_type": "code",
      "execution_count": null,
      "metadata": {
        "id": "s6dv1rG1qc2Q"
      },
      "outputs": [],
      "source": [
        "# model\n",
        "\n",
        "# sil_points\n",
        "\n",
        "# add silhouette scores and clusters to X\n",
        "\n",
        "# sort X by cluster and silhouette score just to look better\n",
        "\n",
        "# number rows for graphing\n"
      ]
    }
  ],
  "metadata": {
    "colab": {
      "name": "Gaussian_Mixture_Models--Class 17.ipynb",
      "provenance": []
    },
    "hide_input": false,
    "kernelspec": {
      "display_name": "Python 3.8.1 64-bit",
      "language": "python",
      "name": "python3"
    },
    "language_info": {
      "codemirror_mode": {
        "name": "ipython",
        "version": 3
      },
      "file_extension": ".py",
      "mimetype": "text/x-python",
      "name": "python",
      "nbconvert_exporter": "python",
      "pygments_lexer": "ipython3",
      "version": "3.8.1"
    },
    "toc": {
      "base_numbering": 1,
      "nav_menu": {},
      "number_sections": true,
      "sideBar": true,
      "skip_h1_title": false,
      "title_cell": "Table of Contents",
      "title_sidebar": "Contents",
      "toc_cell": false,
      "toc_position": {},
      "toc_section_display": true,
      "toc_window_display": false
    },
    "vscode": {
      "interpreter": {
        "hash": "aee8b7b246df8f9039afb4144a1f6fd8d2ca17a180786b69acc140d282b71a49"
      }
    }
  },
  "nbformat": 4,
  "nbformat_minor": 0
}
