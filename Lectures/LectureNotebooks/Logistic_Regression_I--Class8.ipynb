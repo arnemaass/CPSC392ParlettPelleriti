{
  "cells": [
    {
      "cell_type": "code",
      "execution_count": 1,
      "metadata": {
        "id": "QwLwHrXFmpzP"
      },
      "outputs": [],
      "source": [
        "import warnings\n",
        "warnings.filterwarnings('ignore')\n",
        "\n",
        "\n",
        "import pandas as pd\n",
        "import numpy as np\n",
        "from plotnine import *\n",
        "\n",
        "from sklearn.linear_model import LogisticRegression # Logistic Regression Model\n",
        "from sklearn.preprocessing import StandardScaler #Z-score variables\n",
        "from sklearn.metrics import accuracy_score, confusion_matrix,\\\n",
        " f1_score, recall_score, precision_score, roc_auc_score\n",
        "from sklearn.metrics import ConfusionMatrixDisplay, RocCurveDisplay\n",
        "\n",
        "import matplotlib.pyplot as plt\n",
        "\n",
        "from sklearn.model_selection import train_test_split # simple TT split cv\n",
        "from sklearn.model_selection import KFold # k-fold cv\n",
        "from sklearn.model_selection import LeaveOneOut #LOO cv\n",
        "from sklearn.model_selection import cross_val_score # cross validation metrics\n",
        "from sklearn.model_selection import cross_val_predict # cross validation metrics\n",
        "\n",
        "\n",
        "%matplotlib inline"
      ]
    },
    {
      "cell_type": "code",
      "execution_count": 2,
      "metadata": {
        "colab": {
          "base_uri": "https://localhost:8080/",
          "height": 206
        },
        "id": "cfTpyvFnmpzT",
        "outputId": "a130f9df-fab0-4dc6-bea7-d680350bbb18"
      },
      "outputs": [
        {
          "data": {
            "text/html": [
              "\n",
              "  <div id=\"df-6627b41a-3a2f-41cd-a886-05fd4c791cbb\">\n",
              "    <div class=\"colab-df-container\">\n",
              "      <div>\n",
              "<style scoped>\n",
              "    .dataframe tbody tr th:only-of-type {\n",
              "        vertical-align: middle;\n",
              "    }\n",
              "\n",
              "    .dataframe tbody tr th {\n",
              "        vertical-align: top;\n",
              "    }\n",
              "\n",
              "    .dataframe thead th {\n",
              "        text-align: right;\n",
              "    }\n",
              "</style>\n",
              "<table border=\"1\" class=\"dataframe\">\n",
              "  <thead>\n",
              "    <tr style=\"text-align: right;\">\n",
              "      <th></th>\n",
              "      <th>age</th>\n",
              "      <th>income</th>\n",
              "      <th>months_subbed</th>\n",
              "      <th>upgrade</th>\n",
              "    </tr>\n",
              "  </thead>\n",
              "  <tbody>\n",
              "    <tr>\n",
              "      <th>0</th>\n",
              "      <td>22</td>\n",
              "      <td>55.89</td>\n",
              "      <td>14</td>\n",
              "      <td>0</td>\n",
              "    </tr>\n",
              "    <tr>\n",
              "      <th>1</th>\n",
              "      <td>32</td>\n",
              "      <td>86.03</td>\n",
              "      <td>57</td>\n",
              "      <td>0</td>\n",
              "    </tr>\n",
              "    <tr>\n",
              "      <th>2</th>\n",
              "      <td>38</td>\n",
              "      <td>49.22</td>\n",
              "      <td>37</td>\n",
              "      <td>1</td>\n",
              "    </tr>\n",
              "    <tr>\n",
              "      <th>3</th>\n",
              "      <td>14</td>\n",
              "      <td>92.71</td>\n",
              "      <td>51</td>\n",
              "      <td>1</td>\n",
              "    </tr>\n",
              "    <tr>\n",
              "      <th>4</th>\n",
              "      <td>33</td>\n",
              "      <td>94.06</td>\n",
              "      <td>37</td>\n",
              "      <td>0</td>\n",
              "    </tr>\n",
              "  </tbody>\n",
              "</table>\n",
              "</div>\n",
              "      <button class=\"colab-df-convert\" onclick=\"convertToInteractive('df-6627b41a-3a2f-41cd-a886-05fd4c791cbb')\"\n",
              "              title=\"Convert this dataframe to an interactive table.\"\n",
              "              style=\"display:none;\">\n",
              "        \n",
              "  <svg xmlns=\"http://www.w3.org/2000/svg\" height=\"24px\"viewBox=\"0 0 24 24\"\n",
              "       width=\"24px\">\n",
              "    <path d=\"M0 0h24v24H0V0z\" fill=\"none\"/>\n",
              "    <path d=\"M18.56 5.44l.94 2.06.94-2.06 2.06-.94-2.06-.94-.94-2.06-.94 2.06-2.06.94zm-11 1L8.5 8.5l.94-2.06 2.06-.94-2.06-.94L8.5 2.5l-.94 2.06-2.06.94zm10 10l.94 2.06.94-2.06 2.06-.94-2.06-.94-.94-2.06-.94 2.06-2.06.94z\"/><path d=\"M17.41 7.96l-1.37-1.37c-.4-.4-.92-.59-1.43-.59-.52 0-1.04.2-1.43.59L10.3 9.45l-7.72 7.72c-.78.78-.78 2.05 0 2.83L4 21.41c.39.39.9.59 1.41.59.51 0 1.02-.2 1.41-.59l7.78-7.78 2.81-2.81c.8-.78.8-2.07 0-2.86zM5.41 20L4 18.59l7.72-7.72 1.47 1.35L5.41 20z\"/>\n",
              "  </svg>\n",
              "      </button>\n",
              "      \n",
              "  <style>\n",
              "    .colab-df-container {\n",
              "      display:flex;\n",
              "      flex-wrap:wrap;\n",
              "      gap: 12px;\n",
              "    }\n",
              "\n",
              "    .colab-df-convert {\n",
              "      background-color: #E8F0FE;\n",
              "      border: none;\n",
              "      border-radius: 50%;\n",
              "      cursor: pointer;\n",
              "      display: none;\n",
              "      fill: #1967D2;\n",
              "      height: 32px;\n",
              "      padding: 0 0 0 0;\n",
              "      width: 32px;\n",
              "    }\n",
              "\n",
              "    .colab-df-convert:hover {\n",
              "      background-color: #E2EBFA;\n",
              "      box-shadow: 0px 1px 2px rgba(60, 64, 67, 0.3), 0px 1px 3px 1px rgba(60, 64, 67, 0.15);\n",
              "      fill: #174EA6;\n",
              "    }\n",
              "\n",
              "    [theme=dark] .colab-df-convert {\n",
              "      background-color: #3B4455;\n",
              "      fill: #D2E3FC;\n",
              "    }\n",
              "\n",
              "    [theme=dark] .colab-df-convert:hover {\n",
              "      background-color: #434B5C;\n",
              "      box-shadow: 0px 1px 3px 1px rgba(0, 0, 0, 0.15);\n",
              "      filter: drop-shadow(0px 1px 2px rgba(0, 0, 0, 0.3));\n",
              "      fill: #FFFFFF;\n",
              "    }\n",
              "  </style>\n",
              "\n",
              "      <script>\n",
              "        const buttonEl =\n",
              "          document.querySelector('#df-6627b41a-3a2f-41cd-a886-05fd4c791cbb button.colab-df-convert');\n",
              "        buttonEl.style.display =\n",
              "          google.colab.kernel.accessAllowed ? 'block' : 'none';\n",
              "\n",
              "        async function convertToInteractive(key) {\n",
              "          const element = document.querySelector('#df-6627b41a-3a2f-41cd-a886-05fd4c791cbb');\n",
              "          const dataTable =\n",
              "            await google.colab.kernel.invokeFunction('convertToInteractive',\n",
              "                                                     [key], {});\n",
              "          if (!dataTable) return;\n",
              "\n",
              "          const docLinkHtml = 'Like what you see? Visit the ' +\n",
              "            '<a target=\"_blank\" href=https://colab.research.google.com/notebooks/data_table.ipynb>data table notebook</a>'\n",
              "            + ' to learn more about interactive tables.';\n",
              "          element.innerHTML = '';\n",
              "          dataTable['output_type'] = 'display_data';\n",
              "          await google.colab.output.renderOutput(dataTable, element);\n",
              "          const docLink = document.createElement('div');\n",
              "          docLink.innerHTML = docLinkHtml;\n",
              "          element.appendChild(docLink);\n",
              "        }\n",
              "      </script>\n",
              "    </div>\n",
              "  </div>\n",
              "  "
            ],
            "text/plain": [
              "   age  income  months_subbed  upgrade\n",
              "0   22   55.89             14        0\n",
              "1   32   86.03             57        0\n",
              "2   38   49.22             37        1\n",
              "3   14   92.71             51        1\n",
              "4   33   94.06             37        0"
            ]
          },
          "execution_count": 2,
          "metadata": {},
          "output_type": "execute_result"
        }
      ],
      "source": [
        "# data\n",
        "fashionBIG = pd.read_csv(\"https://raw.githubusercontent.com/cmparlettpelleriti/CPSC392ParlettPelleriti/master/Data/SKP_fashionBIG.csv\")\n",
        "fashionBIG.head()"
      ]
    },
    {
      "cell_type": "code",
      "execution_count": 3,
      "metadata": {
        "id": "4do7jxWgmpzU"
      },
      "outputs": [],
      "source": [
        "predictors = [\"age\", \"income\", \"months_subbed\"]\n",
        "\n",
        "X = fashionBIG[predictors]\n",
        "y = fashionBIG[\"upgrade\"]\n",
        "\n",
        "X_train, X_test, y_train, y_test = train_test_split(X,y, test_size = 0.2)\n",
        "\n",
        "# zscore\n",
        "z = StandardScaler()\n",
        "z.fit(X_train)\n",
        "\n",
        "X_train[predictors] = z.transform(X_train)\n",
        "X_test[predictors] = z.transform(X_test)"
      ]
    },
    {
      "cell_type": "code",
      "execution_count": 4,
      "metadata": {
        "id": "x5jBPXs-mpzV"
      },
      "outputs": [],
      "source": [
        "#create\n",
        "myLogit = LogisticRegression()"
      ]
    },
    {
      "cell_type": "code",
      "execution_count": 5,
      "metadata": {
        "colab": {
          "base_uri": "https://localhost:8080/"
        },
        "id": "oZ3Z1zsampzW",
        "outputId": "6a8122c9-408f-4133-ec65-c51e47ace143"
      },
      "outputs": [
        {
          "data": {
            "text/plain": [
              "LogisticRegression()"
            ]
          },
          "execution_count": 5,
          "metadata": {},
          "output_type": "execute_result"
        }
      ],
      "source": [
        "#fit\n",
        "myLogit.fit(X_train, y_train)"
      ]
    },
    {
      "cell_type": "code",
      "execution_count": 6,
      "metadata": {
        "id": "YyFZIpiHmpzW"
      },
      "outputs": [],
      "source": [
        "#predict\n",
        "predictedVals = myLogit.predict(X_test)\n",
        "predictedProbs = myLogit.predict_proba(X_test)"
      ]
    },
    {
      "cell_type": "code",
      "execution_count": 7,
      "metadata": {
        "colab": {
          "base_uri": "https://localhost:8080/",
          "height": 296
        },
        "id": "4aJxAw9TmpzX",
        "outputId": "fd43bd12-9a6e-40c0-dd9d-274619a1abdb"
      },
      "outputs": [
        {
          "data": {
            "text/plain": [
              "<sklearn.metrics._plot.confusion_matrix.ConfusionMatrixDisplay at 0x7f9c19812c10>"
            ]
          },
          "execution_count": 7,
          "metadata": {},
          "output_type": "execute_result"
        },
        {
          "data": {
            "image/png": "[encoded data removed]",
            "text/plain": [
              "<Figure size 432x288 with 2 Axes>"
            ]
          },
          "metadata": {
            "needs_background": "light"
          },
          "output_type": "display_data"
        }
      ],
      "source": [
        "ConfusionMatrixDisplay(y_test, myLogit.predict(X_test))"
      ]
    },
    {
      "cell_type": "code",
      "execution_count": 8,
      "metadata": {
        "colab": {
          "base_uri": "https://localhost:8080/"
        },
        "id": "dPLdRrZ_rUJU",
        "outputId": "2cede65e-ab20-429f-8070-0ef312676adc"
      },
      "outputs": [
        {
          "name": "stdout",
          "output_type": "stream",
          "text": [
            "Accuracy:  0.585\n",
            "F1 Score:  0.700361010830325\n",
            "Recall:  0.8508771929824561\n",
            "Precision:  0.5950920245398773\n"
          ]
        }
      ],
      "source": [
        "# metrics\n",
        "print(\"Accuracy: \", accuracy_score(y_test, predictedVals))\n",
        "print(\"F1 Score: \", f1_score(y_test, predictedVals))\n",
        "print(\"Recall: \", recall_score(y_test, predictedVals))\n",
        "print(\"Precision: \", precision_score(y_test, predictedVals))"
      ]
    },
    {
      "cell_type": "code",
      "execution_count": 9,
      "metadata": {
        "colab": {
          "base_uri": "https://localhost:8080/"
        },
        "id": "01O3AAVh33C3",
        "outputId": "3721b62d-4818-4235-d3a7-d7481fd6164f"
      },
      "outputs": [
        {
          "name": "stdout",
          "output_type": "stream",
          "text": [
            "Accuracy:  0.595\n",
            "F1 Score:  0.7096774193548387\n",
            "Recall:  0.8516129032258064\n",
            "Precision:  0.6082949308755761\n"
          ]
        }
      ],
      "source": [
        "# metrics\n",
        "print(\"Accuracy: \", accuracy_score(y_train, myLogit.predict(X_train)))\n",
        "print(\"F1 Score: \", f1_score(y_train, myLogit.predict(X_train)))\n",
        "print(\"Recall: \", recall_score(y_train, myLogit.predict(X_train)))\n",
        "print(\"Precision: \", precision_score(y_train, myLogit.predict(X_train)))"
      ]
    },
    {
      "cell_type": "code",
      "execution_count": 10,
      "metadata": {
        "colab": {
          "base_uri": "https://localhost:8080/",
          "height": 296
        },
        "id": "jvvD6_Ac4IsO",
        "outputId": "12852454-900c-4a78-95b2-39e1cc6d8550"
      },
      "outputs": [
        {
          "data": {
            "text/plain": [
              "<sklearn.metrics._plot.roc_curve.RocCurveDisplay at 0x7f9c195fef90>"
            ]
          },
          "execution_count": 10,
          "metadata": {},
          "output_type": "execute_result"
        },
        {
          "data": {
            "image/png": "[encoded data removed]",
            "text/plain": [
              "<Figure size 432x288 with 1 Axes>"
            ]
          },
          "metadata": {
            "needs_background": "light"
          },
          "output_type": "display_data"
        }
      ],
      "source": [
        "RocCurveDisplay.from_predictions(y_test, myLogit.predict_proba(X_test)[:,1])"
      ]
    },
    {
      "cell_type": "code",
      "execution_count": 11,
      "metadata": {
        "colab": {
          "base_uri": "https://localhost:8080/",
          "height": 296
        },
        "id": "EDqwQyT44Zpo",
        "outputId": "ef55afaa-2396-408f-c55c-3131b685e357"
      },
      "outputs": [
        {
          "data": {
            "text/plain": [
              "<sklearn.metrics._plot.roc_curve.RocCurveDisplay at 0x7f9c19659cd0>"
            ]
          },
          "execution_count": 11,
          "metadata": {},
          "output_type": "execute_result"
        },
        {
          "data": {
            "image/png": "[encoded data removed]",
            "text/plain": [
              "<Figure size 432x288 with 1 Axes>"
            ]
          },
          "metadata": {
            "needs_background": "light"
          },
          "output_type": "display_data"
        }
      ],
      "source": [
        "RocCurveDisplay.from_predictions(y_train, myLogit.predict_proba(X_train)[:,1])"
      ]
    },
    {
      "cell_type": "code",
      "execution_count": 16,
      "metadata": {
        "colab": {
          "base_uri": "https://localhost:8080/",
          "height": 477
        },
        "id": "RW5segzYaL7_",
        "outputId": "533879f0-942c-4153-a565-0561bd8ca764"
      },
      "outputs": [
        {
          "data": {
            "image/png": "[encoded data removed]",
            "text/plain": [
              "<Figure size 640x480 with 1 Axes>"
            ]
          },
          "metadata": {
            "needs_background": "light"
          },
          "output_type": "display_data"
        },
        {
          "data": {
            "text/plain": [
              "<ggplot: (8769275202385)>"
            ]
          },
          "execution_count": 16,
          "metadata": {},
          "output_type": "execute_result"
        }
      ],
      "source": [
        "# Fun Plots\n",
        "overlap_plot_df = pd.DataFrame({\"proba\": predictedProbs[:,1],\n",
        "                                \"outcome\": y_test})\n",
        "\n",
        "(ggplot(overlap_plot_df, aes(x = \"proba\", y = 1, fill = \"factor(outcome)\")) + geom_point() +\n",
        " theme_minimal() + ylim(0,2) +\n",
        " scale_fill_discrete(name = \"Outcome\") +\n",
        " theme(panel_grid_major_y = element_blank(),\n",
        "       panel_grid_minor_y = element_blank()))\n",
        "\n",
        "thresh = 0.3\n",
        "(ggplot(overlap_plot_df, aes(x = \"proba\",  fill = \"factor(outcome)\")) + geom_density(alpha = 0.2) +\n",
        " theme_minimal() +\n",
        " scale_fill_discrete(name = \"Outcome\") +\n",
        " theme(panel_grid_major_y = element_blank(),\n",
        "       panel_grid_minor_y = element_blank()) +\n",
        " geom_vline(xintercept = thresh, color = \"red\", linetype = \"dashed\"))"
      ]
    },
    {
      "cell_type": "markdown",
      "metadata": {
        "id": "GC-oSC8PolP7"
      },
      "source": [
        "<img src=\"https://drive.google.com/uc?export=view&id=1n-Pg6y8wD-UM05kPyVKorbmteMpHdmcG\"/>\n"
      ]
    },
    {
      "cell_type": "markdown",
      "metadata": {
        "id": "v-a7AAj8mpzY"
      },
      "source": [
        "## Predict new Data"
      ]
    },
    {
      "cell_type": "code",
      "execution_count": 18,
      "metadata": {
        "id": "7rB_ENUPmpzZ"
      },
      "outputs": [],
      "source": [
        "fashionNEW = pd.read_csv(\"https://raw.githubusercontent.com/cmparlettpelleriti/CPSC392ParlettPelleriti/master/Data/SKP_fashionNEW.csv\")\n",
        "\n",
        "Xnew = fashionNEW[predictors]\n",
        "Xnew[predictors] = z.transform(Xnew)\n",
        "\n"
      ]
    },
    {
      "cell_type": "code",
      "execution_count": 21,
      "metadata": {
        "id": "VfGslHRZmpza"
      },
      "outputs": [],
      "source": [
        "# predict\n",
        "y_pred_new = myLogit.predict(Xnew)"
      ]
    },
    {
      "cell_type": "code",
      "execution_count": 22,
      "metadata": {
        "colab": {
          "base_uri": "https://localhost:8080/"
        },
        "id": "Jxw1-Bstmpza",
        "outputId": "150a53b7-0ef0-48c2-c0ff-35dbd141a094"
      },
      "outputs": [
        {
          "name": "stdout",
          "output_type": "stream",
          "text": [
            "Accuracy:  0.595\n"
          ]
        }
      ],
      "source": [
        "# acc\n",
        "print(\"Accuracy: \", accuracy_score(fashionNEW[\"upgrade\"],y_pred_new))"
      ]
    },
    {
      "cell_type": "code",
      "execution_count": 23,
      "metadata": {
        "colab": {
          "base_uri": "https://localhost:8080/",
          "height": 300
        },
        "id": "NsR_veNImpzb",
        "outputId": "93cb0217-1528-4fe7-c2f4-2da5df64e125"
      },
      "outputs": [
        {
          "data": {
            "text/plain": [
              "<sklearn.metrics._plot.confusion_matrix.ConfusionMatrixDisplay at 0x7f9c1914e650>"
            ]
          },
          "execution_count": 23,
          "metadata": {},
          "output_type": "execute_result"
        },
        {
          "data": {
            "image/png": "[encoded data removed]",
            "text/plain": [
              "<Figure size 432x288 with 2 Axes>"
            ]
          },
          "metadata": {
            "needs_background": "light"
          },
          "output_type": "display_data"
        }
      ],
      "source": [
        "# confusion matrix\n",
        "ConfusionMatrixDisplay.from_predictions(fashionNEW[\"upgrade\"], y_pred_new)"
      ]
    },
    {
      "cell_type": "markdown",
      "metadata": {
        "id": "WeL7fMbgmpzb"
      },
      "source": [
        "## LR with Cross Validation"
      ]
    },
    {
      "cell_type": "code",
      "execution_count": 32,
      "metadata": {
        "id": "xVRO7fikmpzb"
      },
      "outputs": [],
      "source": [
        "from numpy.lib.function_base import kaiser\n",
        "# Kfold\n",
        "\n",
        "X = fashionBIG[[\"age\",\"income\",\"months_subbed\"]]\n",
        "y = fashionBIG[\"upgrade\"]\n",
        "\n",
        "# create k-fold object\n",
        "kf = KFold(n_splits = 5)\n",
        "\n",
        "#create model\n",
        "lr = LogisticRegression()\n",
        "\n",
        "#create empty list to store accuracy for each fold\n",
        "acc_train = []\n",
        "acc_test = []\n",
        "\n",
        "roc_train = []\n",
        "roc_test = []"
      ]
    },
    {
      "cell_type": "code",
      "execution_count": 33,
      "metadata": {
        "colab": {
          "base_uri": "https://localhost:8080/"
        },
        "id": "YuaylEd6eDs6",
        "outputId": "d72cad97-1edc-4714-ad98-da9a3adab89c"
      },
      "outputs": [
        {
          "name": "stdout",
          "output_type": "stream",
          "text": [
            "[0.595, 0.59875, 0.60125, 0.58125, 0.59125]\n",
            "0.5934999999999999\n",
            "[0.58, 0.605, 0.54, 0.565, 0.645]\n",
            "0.587\n",
            "[0.62 0.63 0.62 0.6  0.62]\n",
            "0.6176157294258144\n",
            "[0.61 0.57 0.59 0.67 0.62]\n",
            "0.6119575976631173\n"
          ]
        }
      ],
      "source": [
        "# Use a for loop to loop through each fold and train a model, then add the accuracy to acc.\n",
        "\n",
        "for train_indices, test_indices in kf.split(X):\n",
        "    # Get your train/test for this fold\n",
        "    X_train = X.iloc[train_indices]\n",
        "    X_test  = X.iloc[test_indices]\n",
        "    y_train = y[train_indices]\n",
        "    y_test  = y[test_indices]\n",
        "    \n",
        "    # z score\n",
        "    z = StandardScaler()\n",
        "    X_train[predictors] = z.fit_transform(X_train)\n",
        "    X_test[predictors] = z.transform(X_test)\n",
        "\n",
        "    # model\n",
        "    lr.fit(X_train, y_train)\n",
        "\n",
        "   \n",
        "    # record accuracy\n",
        "    acc_train.append(accuracy_score(y_train, lr.predict(X_train)))\n",
        "    acc_test.append(accuracy_score(y_test, lr.predict(X_test)))\n",
        "\n",
        "    roc_train.append(roc_auc_score(y_train, lr.predict_proba(X_train)[:,1]))\n",
        "    roc_test.append(roc_auc_score(y_test, lr.predict_proba(X_test)[:,1]))\n",
        "\n",
        "\n",
        "    \n",
        "#print overall acc\n",
        "print(acc_train)\n",
        "print(np.mean(acc_train))\n",
        "\n",
        "print(acc_test)\n",
        "print(np.mean(acc_test))\n",
        "\n",
        "print(np.round(roc_train,2))\n",
        "print(np.mean(roc_train))\n",
        "\n",
        "print(np.round(roc_test,2))\n",
        "print(np.mean(roc_test))"
      ]
    }
  ],
  "metadata": {
    "colab": {
      "collapsed_sections": [],
      "name": "Logistic Regression I--Class8_BLANK.ipynb",
      "provenance": []
    },
    "hide_input": false,
    "kernelspec": {
      "display_name": "Python 3.9.6 64-bit",
      "language": "python",
      "name": "python3"
    },
    "language_info": {
      "codemirror_mode": {
        "name": "ipython",
        "version": 3
      },
      "file_extension": ".py",
      "mimetype": "text/x-python",
      "name": "python",
      "nbconvert_exporter": "python",
      "pygments_lexer": "ipython3",
      "version": "3.9.6"
    },
    "toc": {
      "base_numbering": 1,
      "nav_menu": {},
      "number_sections": true,
      "sideBar": true,
      "skip_h1_title": false,
      "title_cell": "Table of Contents",
      "title_sidebar": "Contents",
      "toc_cell": false,
      "toc_position": {},
      "toc_section_display": true,
      "toc_window_display": false
    },
    "vscode": {
      "interpreter": {
        "hash": "aee8b7b246df8f9039afb4144a1f6fd8d2ca17a180786b69acc140d282b71a49"
      }
    }
  },
  "nbformat": 4,
  "nbformat_minor": 0
}
