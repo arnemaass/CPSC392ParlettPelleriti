{
  "cells": [
    {
      "cell_type": "code",
      "execution_count": null,
      "metadata": {
        "id": "QwLwHrXFmpzP"
      },
      "outputs": [],
      "source": [
        "import warnings\n",
        "warnings.filterwarnings('ignore')\n",
        "\n",
        "\n",
        "import pandas as pd\n",
        "import numpy as np\n",
        "from plotnine import *\n",
        "\n",
        "from sklearn.linear_model import LogisticRegression # Logistic Regression Model\n",
        "from sklearn.preprocessing import StandardScaler #Z-score variables\n",
        "from sklearn.metrics import accuracy_score, confusion_matrix, plot_confusion_matrix,\\\n",
        " f1_score, recall_score, plot_roc_curve, precision_score, roc_auc_score\n",
        "\n",
        "import matplotlib.pyplot as plt\n",
        "\n",
        "from sklearn.model_selection import train_test_split # simple TT split cv\n",
        "from sklearn.model_selection import KFold # k-fold cv\n",
        "from sklearn.model_selection import LeaveOneOut #LOO cv\n",
        "from sklearn.model_selection import cross_val_score # cross validation metrics\n",
        "from sklearn.model_selection import cross_val_predict # cross validation metrics\n",
        "\n",
        "\n",
        "%matplotlib inline"
      ]
    },
    {
      "cell_type": "code",
      "execution_count": null,
      "metadata": {
        "id": "cfTpyvFnmpzT"
      },
      "outputs": [],
      "source": [
        "# data\n",
        "fashionBIG = pd.read_csv(\"https://raw.githubusercontent.com/cmparlettpelleriti/CPSC392ParlettPelleriti/master/Data/SKP_fashionBIG.csv\")\n",
        "fashionBIG.head()"
      ]
    },
    {
      "cell_type": "code",
      "execution_count": null,
      "metadata": {
        "id": "4do7jxWgmpzU"
      },
      "outputs": [],
      "source": [
        "predictors = [\"age\", \"income\", \"months_subbed\"]\n",
        "\n",
        "X = fashionBIG[predictors]\n",
        "y = fashionBIG[\"upgrade\"]\n",
        "\n",
        "X_train, X_test, y_train, y_test = train_test_split(X,y, test_size = 0.2)\n",
        "\n",
        "# zscore\n"
      ]
    },
    {
      "cell_type": "code",
      "execution_count": null,
      "metadata": {
        "id": "x5jBPXs-mpzV"
      },
      "outputs": [],
      "source": [
        "#create\n"
      ]
    },
    {
      "cell_type": "code",
      "execution_count": null,
      "metadata": {
        "id": "oZ3Z1zsampzW"
      },
      "outputs": [],
      "source": [
        "#fit\n"
      ]
    },
    {
      "cell_type": "code",
      "execution_count": null,
      "metadata": {
        "id": "YyFZIpiHmpzW"
      },
      "outputs": [],
      "source": [
        "#predict\n"
      ]
    },
    {
      "cell_type": "code",
      "execution_count": null,
      "metadata": {
        "id": "4aJxAw9TmpzX"
      },
      "outputs": [],
      "source": [
        ""
      ]
    },
    {
      "cell_type": "code",
      "source": [
        "# metrics\n"
      ],
      "metadata": {
        "id": "dPLdRrZ_rUJU"
      },
      "execution_count": null,
      "outputs": []
    },
    {
      "cell_type": "code",
      "source": [
        "# metrics\n"
      ],
      "metadata": {
        "id": "01O3AAVh33C3"
      },
      "execution_count": null,
      "outputs": []
    },
    {
      "cell_type": "code",
      "source": [
        ""
      ],
      "metadata": {
        "id": "jvvD6_Ac4IsO"
      },
      "execution_count": null,
      "outputs": []
    },
    {
      "cell_type": "code",
      "source": [
        ""
      ],
      "metadata": {
        "id": "EDqwQyT44Zpo"
      },
      "execution_count": null,
      "outputs": []
    },
    {
      "cell_type": "code",
      "source": [
        "# Fun Plots\n"
      ],
      "metadata": {
        "id": "RW5segzYaL7_"
      },
      "execution_count": null,
      "outputs": []
    },
    {
      "cell_type": "markdown",
      "source": [
        "<img src=\"https://drive.google.com/uc?export=view&id=1n-Pg6y8wD-UM05kPyVKorbmteMpHdmcG\"/>\n"
      ],
      "metadata": {
        "id": "GC-oSC8PolP7"
      }
    },
    {
      "cell_type": "markdown",
      "metadata": {
        "id": "v-a7AAj8mpzY"
      },
      "source": [
        "## Predict new Data"
      ]
    },
    {
      "cell_type": "code",
      "execution_count": null,
      "metadata": {
        "id": "7rB_ENUPmpzZ"
      },
      "outputs": [],
      "source": [
        "fashionNEW = pd.read_csv(\"https://raw.githubusercontent.com/cmparlettpelleriti/CPSC392ParlettPelleriti/master/Data/SKP_fashionNEW.csv\")\n",
        "\n",
        "\n",
        "\n"
      ]
    },
    {
      "cell_type": "code",
      "execution_count": null,
      "metadata": {
        "id": "VfGslHRZmpza"
      },
      "outputs": [],
      "source": [
        "# predict\n"
      ]
    },
    {
      "cell_type": "code",
      "execution_count": null,
      "metadata": {
        "id": "Jxw1-Bstmpza"
      },
      "outputs": [],
      "source": [
        "# acc\n"
      ]
    },
    {
      "cell_type": "code",
      "execution_count": null,
      "metadata": {
        "id": "NsR_veNImpzb"
      },
      "outputs": [],
      "source": [
        "# confusion matrix\n"
      ]
    },
    {
      "cell_type": "markdown",
      "metadata": {
        "id": "WeL7fMbgmpzb"
      },
      "source": [
        "## LR with Cross Validation"
      ]
    },
    {
      "cell_type": "code",
      "execution_count": null,
      "metadata": {
        "id": "xVRO7fikmpzb"
      },
      "outputs": [],
      "source": [
        "from numpy.lib.function_base import kaiser\n",
        "# Kfold\n",
        "\n",
        "\n",
        "\n",
        "# create k-fold object\n",
        "\n",
        "\n",
        "#create model\n",
        "\n",
        "\n",
        "#create empty list to store accuracy for each fold\n"
      ]
    },
    {
      "cell_type": "code",
      "source": [
        "# Use a for loop to loop through each fold and train a model, then add the accuracy to acc.\n",
        "\n",
        "for train_indices, test_indices in kf.split(X):\n",
        "    # Get your train/test for this fold\n",
        "    X_train = X.iloc[train_indices]\n",
        "    X_test  = X.iloc[test_indices]\n",
        "    y_train = y[train_indices]\n",
        "    y_test  = y[test_indices]\n",
        "    \n",
        "    # z score\n",
        "\n",
        "\n",
        "    # model\n",
        "\n",
        "   \n",
        "    # record accuracy\n",
        "\n",
        "#print overall acc\n"
      ],
      "metadata": {
        "id": "YuaylEd6eDs6"
      },
      "execution_count": null,
      "outputs": []
    }
  ],
  "metadata": {
    "hide_input": false,
    "kernelspec": {
      "display_name": "Python 3.9.6 64-bit",
      "language": "python",
      "name": "python3"
    },
    "language_info": {
      "codemirror_mode": {
        "name": "ipython",
        "version": 3
      },
      "file_extension": ".py",
      "mimetype": "text/x-python",
      "name": "python",
      "nbconvert_exporter": "python",
      "pygments_lexer": "ipython3",
      "version": "3.9.6"
    },
    "toc": {
      "base_numbering": 1,
      "nav_menu": {},
      "number_sections": true,
      "sideBar": true,
      "skip_h1_title": false,
      "title_cell": "Table of Contents",
      "title_sidebar": "Contents",
      "toc_cell": false,
      "toc_position": {},
      "toc_section_display": true,
      "toc_window_display": false
    },
    "vscode": {
      "interpreter": {
        "hash": "aee8b7b246df8f9039afb4144a1f6fd8d2ca17a180786b69acc140d282b71a49"
      }
    },
    "colab": {
      "name": "Logistic Regression I--Class8_BLANK.ipynb",
      "provenance": [],
      "collapsed_sections": []
    }
  },
  "nbformat": 4,
  "nbformat_minor": 0
}