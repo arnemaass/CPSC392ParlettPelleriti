{
  "cells": [
    {
      "cell_type": "markdown",
      "metadata": {
        "id": "sk8w384cV6Xz"
      },
      "source": [
        "# Prediction"
      ]
    },
    {
      "cell_type": "code",
      "execution_count": null,
      "metadata": {
        "id": "r3oiePdVV6X0"
      },
      "outputs": [],
      "source": [
        "import warnings\n",
        "warnings.filterwarnings('ignore')\n",
        "\n",
        "\n",
        "import pandas as pd\n",
        "import numpy as np\n",
        "from plotnine import *\n",
        "\n",
        "from sklearn.linear_model import LogisticRegression # Logistic Regression Model\n",
        "from sklearn.preprocessing import StandardScaler #Z-score variables\n",
        "from sklearn.metrics import accuracy_score, confusion_matrix,\\\n",
        " f1_score, recall_score, precision_score, roc_auc_score\n",
        "from sklearn.metrics import ConfusionMatrixDisplay, RocCurveDisplay\n",
        "\n",
        "\n",
        "from sklearn.model_selection import train_test_split # simple TT split cv\n",
        "from sklearn.model_selection import KFold # k-fold cv\n",
        "from sklearn.model_selection import LeaveOneOut #LOO cv"
      ]
    },
    {
      "cell_type": "markdown",
      "metadata": {
        "id": "_oFgMQ7DV6X2"
      },
      "source": [
        "## Framework\n",
        "1. Model\n",
        "2. Fit\n",
        "3. Predict"
      ]
    },
    {
      "cell_type": "code",
      "execution_count": null,
      "metadata": {
        "id": "llTu6W2iV6X3"
      },
      "outputs": [],
      "source": [
        "# data\n",
        "fashionBIG = pd.read_csv(\"https://raw.githubusercontent.com/cmparlettpelleriti/CPSC392ParlettPelleriti/master/Data/SKP_fashionBIG.csv\")\n",
        "fashionBIG.head()"
      ]
    },
    {
      "cell_type": "code",
      "execution_count": null,
      "metadata": {
        "id": "GL4fTM-xV6X4"
      },
      "outputs": [],
      "source": [
        "predictors = [\"age\", \"income\", \"months_subbed\"]\n",
        "\n",
        "X = fashionBIG[predictors]\n",
        "y = fashionBIG[\"upgrade\"]\n",
        "\n",
        "X_train, X_test, y_train, y_test = train_test_split(X, y, test_size=0.2)\n",
        "\n",
        "zscore = StandardScaler()\n",
        "\n",
        "zscore.fit(X_train)\n",
        "X_train[predictors] = zscore.transform(X_train)\n",
        "X_test[predictors] = zscore.transform(X_test)"
      ]
    },
    {
      "cell_type": "code",
      "execution_count": null,
      "metadata": {
        "id": "lZsE35rPV6X4"
      },
      "outputs": [],
      "source": [
        "myLogit = LogisticRegression(penalty = \"none\") #create"
      ]
    },
    {
      "cell_type": "code",
      "execution_count": null,
      "metadata": {
        "id": "uI2656n4V6X5"
      },
      "outputs": [],
      "source": [
        "myLogit.fit(X_train,y_train) #fit"
      ]
    },
    {
      "cell_type": "code",
      "execution_count": null,
      "metadata": {
        "id": "yh7-rmgjV6X6"
      },
      "outputs": [],
      "source": [
        "predictedVals = myLogit.predict(X_test) #predict\n",
        "predictedProbs = myLogit.predict_proba(X_test)"
      ]
    },
    {
      "cell_type": "code",
      "execution_count": null,
      "metadata": {
        "id": "r_ctGwA9V6X6"
      },
      "outputs": [],
      "source": [
        "print(\"Accuracy: \", accuracy_score(y_test, predictedVals))\n",
        "print(\"F1 Score: \", f1_score(y_test, predictedVals))\n",
        "print(\"Recall: \", recall_score(y_test, predictedVals))\n",
        "print(\"Precision: \", precision_score(y_test, predictedVals))"
      ]
    },
    {
      "cell_type": "code",
      "execution_count": null,
      "metadata": {
        "id": "HD3lv-LMV6X7"
      },
      "outputs": [],
      "source": [
        "ConfusionMatrixDisplay.from_predictions(y_test,predictedVals)"
      ]
    },
    {
      "cell_type": "markdown",
      "metadata": {
        "id": "8_xGa3l9V6X7"
      },
      "source": [
        "## LR Coef interpretation\n"
      ]
    },
    {
      "cell_type": "code",
      "execution_count": null,
      "metadata": {
        "id": "Me8XhlLKV6X7"
      },
      "outputs": [],
      "source": [
        "coef = pd.DataFrame({\"Coefs\": myLogit.coef_[0],\n",
        "                    \"Names\": predictors})\n",
        "coef = coef.append({\"Coefs\": myLogit.intercept_[0],\n",
        "                    \"Names\": \"intercept\"}, ignore_index = True)"
      ]
    },
    {
      "cell_type": "code",
      "execution_count": null,
      "metadata": {
        "id": "VlYumN2dV6X8"
      },
      "outputs": [],
      "source": []
    },
    {
      "cell_type": "markdown",
      "metadata": {
        "id": "dLuaegmkV6X8"
      },
      "source": [
        "## LR different thresholds\n"
      ]
    },
    {
      "cell_type": "code",
      "execution_count": null,
      "metadata": {
        "id": "AFtFWK07V6X9"
      },
      "outputs": [],
      "source": [
        "fashionNEW = pd.read_csv(\"https://raw.githubusercontent.com/cmparlettpelleriti/CPSC392ParlettPelleriti/master/Data/SKP_fashionNEW.csv\")\n"
      ]
    },
    {
      "cell_type": "code",
      "execution_count": null,
      "metadata": {
        "id": "aMYt5E9BV6X9"
      },
      "outputs": [],
      "source": [
        "# predict proba\n"
      ]
    },
    {
      "cell_type": "code",
      "execution_count": null,
      "metadata": {
        "id": "NgQm00TVV6X-"
      },
      "outputs": [],
      "source": []
    },
    {
      "cell_type": "code",
      "execution_count": null,
      "metadata": {
        "id": "5hjzzbRKV6X-"
      },
      "outputs": [],
      "source": [
        "# accuracy score\n"
      ]
    },
    {
      "cell_type": "markdown",
      "metadata": {
        "id": "0XKyO-qkV6X-"
      },
      "source": [
        "## Regularization"
      ]
    },
    {
      "cell_type": "code",
      "execution_count": null,
      "metadata": {
        "id": "OZg-AX-mV6X_"
      },
      "outputs": [],
      "source": [
        "# Default Regularization\n",
        "# https://scikit-learn.org/stable/modules/generated/sklearn.linear_model.LogisticRegression.html\n",
        "\n",
        "#create\n",
        "\n",
        "#fit\n"
      ]
    },
    {
      "cell_type": "code",
      "execution_count": null,
      "metadata": {
        "id": "qG9QdBCFV6X_"
      },
      "outputs": [],
      "source": [
        "#create\n",
        "\n",
        "#fit\n"
      ]
    }
  ],
  "metadata": {
    "colab": {
      "name": "Logistic Regression II--Class9_BLANK.ipynb",
      "provenance": []
    },
    "hide_input": false,
    "kernelspec": {
      "display_name": "Python 3.9.6 64-bit",
      "language": "python",
      "name": "python3"
    },
    "language_info": {
      "codemirror_mode": {
        "name": "ipython",
        "version": 3
      },
      "file_extension": ".py",
      "mimetype": "text/x-python",
      "name": "python",
      "nbconvert_exporter": "python",
      "pygments_lexer": "ipython3",
      "version": "3.9.6"
    },
    "toc": {
      "base_numbering": 1,
      "nav_menu": {},
      "number_sections": true,
      "sideBar": true,
      "skip_h1_title": false,
      "title_cell": "Table of Contents",
      "title_sidebar": "Contents",
      "toc_cell": false,
      "toc_position": {},
      "toc_section_display": true,
      "toc_window_display": false
    },
    "vscode": {
      "interpreter": {
        "hash": "aee8b7b246df8f9039afb4144a1f6fd8d2ca17a180786b69acc140d282b71a49"
      }
    }
  },
  "nbformat": 4,
  "nbformat_minor": 0
}
