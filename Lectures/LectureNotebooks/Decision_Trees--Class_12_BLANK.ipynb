{
  "cells": [
    {
      "cell_type": "code",
      "execution_count": null,
      "metadata": {
        "id": "lUd2rjLtXfYj"
      },
      "outputs": [],
      "source": [
        "import warnings\n",
        "warnings.filterwarnings('ignore')\n",
        "\n",
        "\n",
        "import pandas as pd\n",
        "import numpy as np\n",
        "from plotnine import *\n",
        "import matplotlib.pyplot as plt\n",
        "\n",
        "from sklearn.tree import DecisionTreeClassifier, DecisionTreeRegressor # Decision Tree\n",
        "from sklearn.model_selection import train_test_split, KFold\n",
        "\n",
        "from sklearn.preprocessing import StandardScaler #Z-score variables\n",
        "\n",
        "from sklearn.metrics import accuracy_score, confusion_matrix, mean_squared_error, plot_confusion_matrix, roc_auc_score, recall_score, precision_score\n"
      ]
    },
    {
      "cell_type": "markdown",
      "metadata": {
        "id": "_7juHoK9XfYm"
      },
      "source": [
        "# Decision Trees"
      ]
    },
    {
      "cell_type": "markdown",
      "metadata": {
        "id": "9oUZNd-1XfYn"
      },
      "source": [
        "## 1. Explore"
      ]
    },
    {
      "cell_type": "code",
      "execution_count": null,
      "metadata": {
        "id": "k39ByHS_XfYo"
      },
      "outputs": [],
      "source": [
        "gpa = pd.read_csv(\"https://raw.githubusercontent.com/cmparlettpelleriti/CPSC392ParlettPelleriti/master/Data/CCfraud.csv\")\n",
        "\n",
        "#(ggplot(gpa, aes()) + geom_bar())"
      ]
    },
    {
      "cell_type": "markdown",
      "metadata": {
        "id": "G4CL_cYGXfYo"
      },
      "source": [
        "## 2. Build Model"
      ]
    },
    {
      "cell_type": "code",
      "execution_count": null,
      "metadata": {
        "id": "XOivwaChXfYo"
      },
      "outputs": [],
      "source": [
        "X = gpa[[\"home\",\"amount\",\"cashBack\"]]\n",
        "y = gpa[\"fraud\"]\n",
        "\n",
        "\n"
      ]
    },
    {
      "cell_type": "markdown",
      "metadata": {
        "id": "K82Hp7xiXfYp"
      },
      "source": [
        "## 3. Evaluate Model"
      ]
    },
    {
      "cell_type": "code",
      "execution_count": null,
      "metadata": {
        "id": "lMYlumx7XfYq"
      },
      "outputs": [],
      "source": [
        "#metrics\n"
      ]
    },
    {
      "cell_type": "code",
      "execution_count": null,
      "metadata": {
        "id": "UJIgptKxXfYr"
      },
      "outputs": [],
      "source": [
        "# confusion\n",
        "\n"
      ]
    },
    {
      "cell_type": "code",
      "source": [
        ""
      ],
      "metadata": {
        "id": "egDMPCvsbC4c"
      },
      "execution_count": null,
      "outputs": []
    },
    {
      "cell_type": "markdown",
      "metadata": {
        "id": "B8qNril2XfYr"
      },
      "source": [
        "## Max Depth and Number of Leaves"
      ]
    },
    {
      "cell_type": "code",
      "execution_count": null,
      "metadata": {
        "id": "7_8yuFJSXfYs"
      },
      "outputs": [],
      "source": [
        ""
      ]
    },
    {
      "cell_type": "code",
      "execution_count": null,
      "metadata": {
        "id": "0P5CiYrDXfYs"
      },
      "outputs": [],
      "source": [
        ""
      ]
    },
    {
      "cell_type": "code",
      "execution_count": null,
      "metadata": {
        "id": "I7cv5i-AXfYs"
      },
      "outputs": [],
      "source": [
        "# model\n"
      ]
    },
    {
      "cell_type": "code",
      "execution_count": null,
      "metadata": {
        "id": "d1T-XxyUXfYt"
      },
      "outputs": [],
      "source": [
        ""
      ]
    },
    {
      "cell_type": "code",
      "execution_count": null,
      "metadata": {
        "id": "DlGYzazdXfYt"
      },
      "outputs": [],
      "source": [
        ""
      ]
    },
    {
      "cell_type": "markdown",
      "metadata": {
        "id": "xv5yE7I-XfYu"
      },
      "source": [
        "## Min Leaf Samples"
      ]
    },
    {
      "cell_type": "code",
      "execution_count": null,
      "metadata": {
        "id": "bDHQPh3BXfYu"
      },
      "outputs": [],
      "source": [
        ""
      ]
    },
    {
      "cell_type": "code",
      "source": [
        ""
      ],
      "metadata": {
        "id": "ZbHPpLMzdM49"
      },
      "execution_count": null,
      "outputs": []
    },
    {
      "cell_type": "markdown",
      "metadata": {
        "id": "GpSFKs90XfYu"
      },
      "source": [
        "## Other Options\n",
        "You can actually limit tree complexity in a few ways. We learned about `max_depth` and `min_samples_leaf`, but you can also choose how many samples need to be in an internal node for us to split (`min_samples_split`), limit the number of leaf nodes allowed (`max_leaf_nodes`), or require a split to reduce the impurity/entropy by *at least* a certain amount before allowing a split (`min_impurity_decrease`), and more!\n",
        "\n",
        "The idea for all of them, though is to create a tree that is not overfit."
      ]
    },
    {
      "cell_type": "markdown",
      "metadata": {
        "id": "GEvO-LBZXfYv"
      },
      "source": [
        "## Variable/Feature Importance"
      ]
    },
    {
      "cell_type": "code",
      "execution_count": null,
      "metadata": {
        "id": "sUA6zC1oXfYv"
      },
      "outputs": [],
      "source": [
        ""
      ]
    },
    {
      "cell_type": "markdown",
      "metadata": {
        "id": "GpE1UIM-XfYv"
      },
      "source": [
        "# Another Example"
      ]
    },
    {
      "cell_type": "code",
      "execution_count": null,
      "metadata": {
        "id": "Un7rS8_4XfYv"
      },
      "outputs": [],
      "source": [
        "heart = pd.read_csv(\"https://raw.githubusercontent.com/cmparlettpelleriti/CPSC392ParlettPelleriti/master/Data/heart.csv\")\n",
        "heart.head()"
      ]
    },
    {
      "cell_type": "code",
      "execution_count": null,
      "metadata": {
        "id": "lMuw2GVzXfYw"
      },
      "outputs": [],
      "source": [
        "predictors = [\"sex\", \"age\", \"restecg\", \"chol\"]\n"
      ]
    },
    {
      "cell_type": "markdown",
      "metadata": {
        "id": "gplijAn6XfYw"
      },
      "source": [
        "# Regression Trees\n",
        "\n",
        "Regression Trees are built in the same way as Decision Trees, but:\n",
        "\n",
        "1. The output is continuous (like Linear Regression)\n",
        "2. Instead of Gini Impurity/Entropy we can use things like the MSE, MAE, Sum of Squared Errors.\n",
        "3. The prediction for each leaf node is the mean of the data points in that node, (rather than the mode)"
      ]
    },
    {
      "cell_type": "code",
      "execution_count": null,
      "metadata": {
        "id": "B_0C0X64XfYw"
      },
      "outputs": [],
      "source": [
        "wine = pd.read_csv(\"https://raw.githubusercontent.com/cmparlettpelleriti/CPSC392ParlettPelleriti/master/Data/wineLARGE.csv\")\n",
        "\n",
        "wine.head()"
      ]
    },
    {
      "cell_type": "code",
      "execution_count": null,
      "metadata": {
        "id": "iWyffYgkXfYw"
      },
      "outputs": [],
      "source": [
        "predictors = [\"density\", \"fixed.acidity\", \"volatile.acidity\", \"residual.sugar\"]\n",
        "\n"
      ]
    }
  ],
  "metadata": {
    "hide_input": false,
    "kernelspec": {
      "display_name": "Python 3.8.1 64-bit",
      "language": "python",
      "name": "python3"
    },
    "language_info": {
      "codemirror_mode": {
        "name": "ipython",
        "version": 3
      },
      "file_extension": ".py",
      "mimetype": "text/x-python",
      "name": "python",
      "nbconvert_exporter": "python",
      "pygments_lexer": "ipython3",
      "version": "3.8.1"
    },
    "toc": {
      "base_numbering": 1,
      "nav_menu": {},
      "number_sections": true,
      "sideBar": true,
      "skip_h1_title": false,
      "title_cell": "Table of Contents",
      "title_sidebar": "Contents",
      "toc_cell": false,
      "toc_position": {},
      "toc_section_display": true,
      "toc_window_display": false
    },
    "vscode": {
      "interpreter": {
        "hash": "aee8b7b246df8f9039afb4144a1f6fd8d2ca17a180786b69acc140d282b71a49"
      }
    },
    "colab": {
      "name": "Decision Trees--Class 12.ipynb",
      "provenance": []
    }
  },
  "nbformat": 4,
  "nbformat_minor": 0
}