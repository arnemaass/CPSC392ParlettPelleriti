{
  "cells": [
    {
      "cell_type": "code",
      "execution_count": null,
      "metadata": {
        "id": "b_aQ2u7ZoAPN"
      },
      "outputs": [],
      "source": [
        "import warnings\n",
        "warnings.filterwarnings('ignore')\n",
        "\n",
        "\n",
        "import pandas as pd\n",
        "import numpy as np\n",
        "from plotnine import *\n",
        "\n",
        "from sklearn.preprocessing import StandardScaler #Z-score variables\n",
        "\n",
        "from sklearn.cluster import KMeans\n",
        "from sklearn.mixture import GaussianMixture\n",
        "\n",
        "from sklearn.metrics import silhouette_score, silhouette_samples\n",
        "\n",
        "%matplotlib inline"
      ]
    },
    {
      "cell_type": "markdown",
      "metadata": {
        "id": "Kw9hCO7foAPQ"
      },
      "source": [
        "# K Means"
      ]
    },
    {
      "cell_type": "markdown",
      "metadata": {
        "id": "iRCLGB7doAPS"
      },
      "source": [
        "## 1. Explore"
      ]
    },
    {
      "cell_type": "markdown",
      "metadata": {
        "id": "NEqPrQ9SoAPS"
      },
      "source": [
        "## 2. Build Model"
      ]
    },
    {
      "cell_type": "code",
      "execution_count": null,
      "metadata": {
        "id": "00fpS1fKoAPT"
      },
      "outputs": [],
      "source": [
        "bk = pd.read_csv(\"https://raw.githubusercontent.com/cmparlettpelleriti/CPSC392ParlettPelleriti/master/Data/burger-king-items.txt\",\n",
        "                sep='\\t')\n",
        "\n",
        "bk.head()"
      ]
    },
    {
      "cell_type": "code",
      "execution_count": null,
      "metadata": {
        "id": "vj9-aZomoAPU"
      },
      "outputs": [],
      "source": [
        "# data\n",
        "features = [\"Fat(g)\", \"Sodium(mg)\"]\n",
        "X = bk[features]\n",
        "\n",
        "# z\n",
        "\n",
        "\n",
        "# plot\n"
      ]
    },
    {
      "cell_type": "code",
      "execution_count": null,
      "metadata": {
        "id": "VAJMwp9voAPV"
      },
      "outputs": [],
      "source": [
        "# km\n",
        "\n",
        "\n",
        "# labels\n",
        "\n",
        "\n",
        "# plot\n"
      ]
    },
    {
      "cell_type": "markdown",
      "metadata": {
        "id": "VJS3f-dSoAPW"
      },
      "source": [
        "## 3. Evaluate Model"
      ]
    },
    {
      "cell_type": "code",
      "execution_count": null,
      "metadata": {
        "id": "FPrZ9_rFoAPW"
      },
      "outputs": [],
      "source": [
        "# sil score"
      ]
    },
    {
      "cell_type": "code",
      "execution_count": null,
      "metadata": {
        "id": "9O0T56BeoAPX"
      },
      "outputs": [],
      "source": [
        "# sil_points\n",
        "\n",
        "# add silhouette scores and clusters to X\n",
        "\n",
        "# sort X by cluster and silhouette score just to look better\n",
        "\n",
        "# number rows for graphing\n"
      ]
    },
    {
      "cell_type": "markdown",
      "metadata": {
        "id": "iL0uV2sCoAPX"
      },
      "source": [
        "# Another Example"
      ]
    },
    {
      "cell_type": "code",
      "execution_count": null,
      "metadata": {
        "id": "e8Vz7YMboAPY"
      },
      "outputs": [],
      "source": [
        "features = [\"Fat(g)\", \"Sodium(mg)\", \"Calories\", \"Chol(mg)\",\n",
        "            \"Sugar(g)\", \"Protein(g)\"]\n",
        "\n",
        "# model\n"
      ]
    },
    {
      "cell_type": "code",
      "execution_count": null,
      "metadata": {
        "id": "mJIWstm1oAPY"
      },
      "outputs": [],
      "source": [
        "# membership"
      ]
    },
    {
      "cell_type": "markdown",
      "metadata": {
        "id": "25rhqL0moAPY"
      },
      "source": [
        "## Choosing K"
      ]
    },
    {
      "cell_type": "code",
      "execution_count": null,
      "metadata": {
        "id": "tNIKEk_goAPZ"
      },
      "outputs": [],
      "source": [
        "ks = [2,3,4,5,6,7,8,9,10,11,12,13,14,15,16,17,18,19,20]\n"
      ]
    },
    {
      "cell_type": "code",
      "execution_count": null,
      "metadata": {
        "id": "k8if1uK4oAPZ"
      },
      "outputs": [],
      "source": [
        "# sil\n"
      ]
    },
    {
      "cell_type": "markdown",
      "metadata": {
        "id": "xnGnjrgMoAPZ"
      },
      "source": [
        "# Another Another Example\n",
        "Data from [here](https://www.kaggle.com/josephvm/major-league-soccer-dataset/version/51?select=all_players.csv)."
      ]
    },
    {
      "cell_type": "code",
      "execution_count": null,
      "metadata": {
        "id": "rPq65b2VoAPa"
      },
      "outputs": [],
      "source": [
        "d = \"https://raw.githubusercontent.com/cmparlettpelleriti/CPSC392ParlettPelleriti/master/Data/all_players.csv\"\n",
        "mls = pd.read_csv(d)\n",
        "mls.head()"
      ]
    },
    {
      "cell_type": "code",
      "execution_count": null,
      "metadata": {
        "id": "oOymRxkAoAPa"
      },
      "outputs": [],
      "source": [
        "mls2018 = mls.loc[mls.Year == 2018,]\n",
        "mls2018.shape"
      ]
    },
    {
      "cell_type": "code",
      "execution_count": null,
      "metadata": {
        "id": "MBN8ZZvSoAPa"
      },
      "outputs": [],
      "source": [
        "pred = [\"G\", \"A\", \"FC\"]\n",
        "X = mls2018[pred]\n",
        "\n",
        "z = StandardScaler()\n",
        "\n",
        "X[pred] = z.fit_transform(X)\n",
        "\n",
        "ks = [2,3,4,5,6,7,8,9,10]\n",
        "sse = []\n",
        "sils = []\n",
        "\n"
      ]
    },
    {
      "cell_type": "code",
      "execution_count": null,
      "metadata": {
        "id": "jXl3iC5QoAPb"
      },
      "outputs": [],
      "source": []
    },
    {
      "cell_type": "code",
      "execution_count": null,
      "metadata": {
        "id": "TZ2zGIUFoAPb"
      },
      "outputs": [],
      "source": [
        "# km model"
      ]
    },
    {
      "cell_type": "markdown",
      "metadata": {
        "id": "NK-ObuavoAPb"
      },
      "source": [
        "## Summarize Clusters\n"
      ]
    },
    {
      "cell_type": "code",
      "execution_count": null,
      "metadata": {
        "id": "r8pILJLWoAPc"
      },
      "outputs": [],
      "source": [
        "for p in pred:\n",
        "    print(ggplot(mls2018, aes(x = \"factor(cluster)\", y = p,\n",
        "                             fill = \"factor(cluster)\")) +\n",
        "         geom_boxplot() + theme_minimal() + \n",
        "         labs(title = p))"
      ]
    },
    {
      "cell_type": "code",
      "execution_count": null,
      "metadata": {
        "id": "QMTwpvEdoAPc"
      },
      "outputs": [],
      "source": [
        "(ggplot(mls2018, aes(x = \"G\", y = \"A\", color = \"factor(cluster)\")) + \n",
        "geom_point() + theme_minimal() + labs(x = \"G\", y = \"A\", title = \"Goals vs. Assists\"))"
      ]
    },
    {
      "cell_type": "code",
      "execution_count": null,
      "metadata": {
        "id": "Cco5iUrsoAPc"
      },
      "outputs": [],
      "source": [
        "(ggplot(mls2018, aes(x = \"G\", y = \"FC\", color = \"factor(cluster)\")) + \n",
        "geom_point() + theme_minimal() + labs(x = \"G\", y = \"Fouls\", title = \"Goals vs. fouls\"))"
      ]
    },
    {
      "cell_type": "code",
      "execution_count": null,
      "metadata": {
        "id": "1wO_IhGWoAPc"
      },
      "outputs": [],
      "source": [
        "mls2018.groupby(\"cluster\").mean()[[\"G\", \"A\", \"FC\"]]"
      ]
    },
    {
      "cell_type": "code",
      "execution_count": null,
      "metadata": {
        "id": "N_a471HeoAPc"
      },
      "outputs": [],
      "source": [
        "mls2018.loc[mls2018.cluster == 3,\"Player\"].sample(10)"
      ]
    },
    {
      "cell_type": "code",
      "execution_count": null,
      "metadata": {
        "id": "jkvrXYVLoAPd"
      },
      "outputs": [],
      "source": [
        "(ggplot(mls2018, aes(x = \"cluster\", fill = \"POS\")) + geom_bar() + theme_minimal() + labs(title = \"Cluster vs. Pos\"))"
      ]
    },
    {
      "cell_type": "code",
      "execution_count": null,
      "metadata": {
        "id": "nFyyO-bHoAPd"
      },
      "outputs": [],
      "source": [
        "(ggplot(mls2018, aes(x = \"cluster\", y = \"MINS\", fill = \"cluster\")) +\n",
        " stat_summary(fun_data = \"mean_sdl\", geom = \"bar\") +\n",
        "theme_minimal() + labs(title = \"Clusters vs. Minutes Played\"))"
      ]
    }
  ],
  "metadata": {
    "colab": {
      "name": "KMeans--Class 16.ipynb",
      "provenance": []
    },
    "hide_input": false,
    "kernelspec": {
      "display_name": "Python 3.8.1 64-bit",
      "language": "python",
      "name": "python3"
    },
    "language_info": {
      "codemirror_mode": {
        "name": "ipython",
        "version": 3
      },
      "file_extension": ".py",
      "mimetype": "text/x-python",
      "name": "python",
      "nbconvert_exporter": "python",
      "pygments_lexer": "ipython3",
      "version": "3.8.1"
    },
    "toc": {
      "base_numbering": 1,
      "nav_menu": {},
      "number_sections": true,
      "sideBar": true,
      "skip_h1_title": false,
      "title_cell": "Table of Contents",
      "title_sidebar": "Contents",
      "toc_cell": false,
      "toc_position": {},
      "toc_section_display": true,
      "toc_window_display": false
    },
    "vscode": {
      "interpreter": {
        "hash": "aee8b7b246df8f9039afb4144a1f6fd8d2ca17a180786b69acc140d282b71a49"
      }
    }
  },
  "nbformat": 4,
  "nbformat_minor": 0
}
