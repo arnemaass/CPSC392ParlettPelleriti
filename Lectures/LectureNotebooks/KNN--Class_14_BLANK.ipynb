{
  "cells": [
    {
      "cell_type": "code",
      "execution_count": null,
      "metadata": {
        "id": "Ft4bib_NSc48"
      },
      "outputs": [],
      "source": [
        "import warnings\n",
        "warnings.filterwarnings('ignore')\n",
        "\n",
        "\n",
        "import pandas as pd\n",
        "import numpy as np\n",
        "from plotnine import *\n",
        "\n",
        "import matplotlib.pyplot as plt\n",
        "\n",
        "from sklearn.neighbors import KNeighborsClassifier\n",
        "from sklearn.model_selection import train_test_split\n",
        "\n",
        "from sklearn import metrics \n",
        "from sklearn.preprocessing import StandardScaler #Z-score variables\n",
        "\n",
        "from sklearn.model_selection import train_test_split # simple TT split cv\n",
        "from sklearn.model_selection import KFold # k-fold cv\n",
        "from sklearn.model_selection import LeaveOneOut #LOO cv\n",
        "from sklearn.metrics import accuracy_score, confusion_matrix\n",
        "from sklearn.metrics import ConfusionMatrixDisplay, RocCurveDisplay\n",
        "\n",
        "from sklearn.model_selection import GridSearchCV\n",
        "\n",
        "%precision %.7g\n",
        "%matplotlib inline"
      ]
    },
    {
      "cell_type": "markdown",
      "metadata": {
        "id": "A2cCQDAlSc4_"
      },
      "source": [
        "# KNN"
      ]
    },
    {
      "cell_type": "markdown",
      "metadata": {
        "id": "rZjw5PuVSc5A"
      },
      "source": [
        "## 1. Explore"
      ]
    },
    {
      "cell_type": "code",
      "execution_count": null,
      "metadata": {
        "id": "cM2nRkpaSc5B"
      },
      "outputs": [],
      "source": [
        "data = pd.read_csv(\"https://raw.githubusercontent.com/cmparlettpelleriti/CPSC392ParlettPelleriti/master/Data/diabetes2.csv\")\n",
        "data.head()"
      ]
    },
    {
      "cell_type": "markdown",
      "metadata": {
        "id": "lBzNENk9Sc5C"
      },
      "source": [
        "## 2. Build and Evaluate Model"
      ]
    },
    {
      "cell_type": "code",
      "execution_count": null,
      "metadata": {
        "id": "KhT5rOzOSc5C"
      },
      "outputs": [],
      "source": [
        "predictors = [\"BMI\", \"BloodPressure\"]\n",
        "\n",
        "X = data[predictors]\n",
        "y = data[\"Outcome\"]\n",
        "\n",
        "\n",
        "\n",
        "\n",
        "\n",
        "\n",
        "\n"
      ]
    },
    {
      "cell_type": "code",
      "execution_count": null,
      "metadata": {
        "id": "VgHk0CHZSc5D"
      },
      "outputs": [],
      "source": [
        "import matplotlib.pyplot as plt\n",
        "from matplotlib.colors import ListedColormap\n",
        "\n",
        "def plotKNN2D(Xdf,y,k):\n",
        "    # X can only have 2 dimensions becuase of plotting\n",
        "    print(\"------------\")\n",
        "    print(Xdf.columns)\n",
        "    \n",
        "    \n",
        "    Xdf.columns = [\"x0\", \"x1\"]\n",
        "\n",
        "    #grab the range of features for each feature\n",
        "    x0_range = np.linspace(min(Xdf[\"x0\"]) - np.std(Xdf[\"x0\"]),\n",
        "                           max(Xdf[\"x0\"]) + np.std(Xdf[\"x0\"]), num = 100)\n",
        "    x1_range = np.linspace(min(Xdf[\"x1\"]) - np.std(Xdf[\"x1\"]),\n",
        "                           max(Xdf[\"x1\"]) + np.std(Xdf[\"x1\"]), num = 100)\n",
        "\n",
        "    #get all possible points on graph\n",
        "    x0 = np.repeat(x0_range,100)\n",
        "    x1 = np.tile(x1_range,100)\n",
        "    x_grid = pd.DataFrame({\"x0\": x0, \"x1\": x1})\n",
        "\n",
        "    #build model\n",
        "    knn = KNeighborsClassifier(n_neighbors = k)\n",
        "    knn.fit(Xdf,y)\n",
        "\n",
        "    # bredict all background points\n",
        "    p = knn.predict(x_grid)\n",
        "    x_grid[\"p\"] = p #add to dataframe\n",
        "    \n",
        "    #build the plot\n",
        "    bound = (ggplot(x_grid, aes(x = \"x0\", y = \"x1\", color = \"factor(p)\")) +\n",
        "                 geom_point(alpha = 0.2, size = 0.2) + theme_minimal() +\n",
        "                 scale_color_discrete(name = \"Class\") +\n",
        "                 geom_point(data = Xdf, mapping = aes(x = \"x0\", y = \"x1\", color = \"factor(y)\"), size = 2))\n",
        "    print(bound)\n",
        "    \n",
        "    \n",
        "plotKNN2D(X_train,y_train, k = 15)"
      ]
    },
    {
      "cell_type": "code",
      "execution_count": null,
      "metadata": {
        "id": "bh30XWwrSc5E"
      },
      "outputs": [],
      "source": [
        "# acc\n"
      ]
    },
    {
      "cell_type": "code",
      "execution_count": null,
      "metadata": {
        "id": "HhVrNfzbSc5F"
      },
      "outputs": [],
      "source": [
        "# confusion\n"
      ]
    },
    {
      "cell_type": "code",
      "execution_count": null,
      "metadata": {
        "id": "aI7UoCKFSc5G"
      },
      "outputs": [],
      "source": []
    },
    {
      "cell_type": "code",
      "execution_count": null,
      "metadata": {
        "id": "10GN2P6pSc5H"
      },
      "outputs": [],
      "source": [
        "# roc auc\n"
      ]
    },
    {
      "cell_type": "code",
      "execution_count": null,
      "metadata": {
        "id": "qjennrLnSc5H"
      },
      "outputs": [],
      "source": []
    },
    {
      "cell_type": "markdown",
      "metadata": {
        "id": "JO_y7Ig0Sc5I"
      },
      "source": [
        "# Parameter Tuning"
      ]
    },
    {
      "cell_type": "markdown",
      "metadata": {
        "id": "od7EZmmfSc5I"
      },
      "source": [
        "## Option 1: By Hand"
      ]
    },
    {
      "cell_type": "code",
      "execution_count": null,
      "metadata": {
        "id": "IAYaT_iaSc5I"
      },
      "outputs": [],
      "source": [
        "predictors = [\"BMI\", \"BloodPressure\"]\n",
        "\n",
        "X = data[predictors]\n",
        "y = data[\"Outcome\"]\n",
        "\n",
        "# split into training and test\n",
        "\n",
        "# split training set into train and validation\n",
        "\n",
        "# choose possible parameter values to test\n",
        "\n",
        "# test parameters\n",
        "\n",
        "\n",
        "# choose best param\n",
        "\n",
        "\n",
        "# fit model with best param\n"
      ]
    },
    {
      "cell_type": "markdown",
      "metadata": {
        "id": "gjdLqky8Sc5J"
      },
      "source": [
        "## Option 2 (recommended): Grid Search"
      ]
    },
    {
      "cell_type": "code",
      "execution_count": null,
      "metadata": {
        "id": "h1iRVvZASc5J"
      },
      "outputs": [],
      "source": [
        "# what K do I use??\n",
        "\n",
        "predictors = [\"BMI\", \"BloodPressure\"]\n",
        "\n",
        "X = data[predictors]\n",
        "y = data[\"Outcome\"]\n",
        "\n",
        "# split into training and test\n",
        "X_train, X_test, y_train, y_test = train_test_split(X,y, test_size = 0.2)\n",
        "\n",
        "# create model\n",
        "\n",
        "\n",
        "# choose potential values of k\n",
        "\n",
        "# use grid search to find best parameters\n",
        "\n"
      ]
    },
    {
      "cell_type": "code",
      "execution_count": null,
      "metadata": {
        "id": "eNlzE0wLSc5J"
      },
      "outputs": [],
      "source": []
    },
    {
      "cell_type": "code",
      "execution_count": null,
      "metadata": {
        "id": "MwUR_69ISc5K"
      },
      "outputs": [],
      "source": [
        "# more things you can pull: https://scikit-learn.org/stable/modules/generated/sklearn.model_selection.GridSearchCV.html"
      ]
    },
    {
      "cell_type": "code",
      "execution_count": null,
      "metadata": {
        "id": "w9gGvC5WSc5K"
      },
      "outputs": [],
      "source": []
    },
    {
      "cell_type": "markdown",
      "metadata": {
        "id": "Mr2oSumVSc5K"
      },
      "source": [
        "## Data Leakage (Reprise)"
      ]
    },
    {
      "cell_type": "code",
      "execution_count": null,
      "metadata": {
        "id": "MTEHEsRDSc5K"
      },
      "outputs": [],
      "source": [
        "from sklearn.pipeline import make_pipeline\n",
        "from sklearn.compose import make_column_transformer\n",
        "\n",
        "# what K do I use??\n",
        "predictors = [\"BMI\", \"BloodPressure\"]\n",
        "\n",
        "X = data[predictors]\n",
        "y = data[\"Outcome\"]\n",
        "\n",
        "# split into training and test\n",
        "\n",
        "# create model\n",
        "\n",
        "# create z score object\n",
        "\n",
        "\n",
        "# make pipeline\n",
        "\n",
        "\n",
        "# choose potential values of k\n",
        "\n",
        "# use grid search to find best parameters\n",
        "\n",
        "\n",
        "\n",
        "\n",
        "\n"
      ]
    },
    {
      "cell_type": "markdown",
      "metadata": {
        "id": "ijx9fP-QSc5L"
      },
      "source": [
        "## What else can we Grid Search???\n",
        "\n",
        "Grid search is a super simple way to choose hyperparameters. There other more efficient ways to tune hyperparameters, but this does a good job in simple cases like the ones we will see in class.\n",
        "\n",
        "It doesn't just work for K in KNN though! Think about `max_depth` when building a DecisionTree, this can be chosen using `GridSearchCV()` as well."
      ]
    },
    {
      "cell_type": "code",
      "execution_count": null,
      "metadata": {
        "id": "hrR21hcTSc5L"
      },
      "outputs": [],
      "source": [
        "from sklearn.tree import DecisionTreeClassifier # Decision Tree\n",
        "\n",
        "# load data from DT lecture\n",
        "gpa = pd.read_csv(\"https://raw.githubusercontent.com/cmparlettpelleriti/CPSC392ParlettPelleriti/master/Data/CCfraud.csv\")\n",
        "\n",
        "# set X and y\n",
        "X = gpa[[\"home\",\"amount\",\"cashBack\"]]\n",
        "y = gpa[\"fraud\"]\n",
        "\n",
        "X_train, X_test, y_train, y_test = train_test_split(X,y, test_size = 0.2)\n",
        "\n",
        "# make z score object\n",
        "\n",
        "\n",
        "# make model\n",
        "\n",
        "\n",
        "# make pipe\n",
        "\n",
        "\n",
        "# choose potential values of max depths\n",
        "\n",
        "# use grid search to find best parameters\n",
        "\n"
      ]
    },
    {
      "cell_type": "code",
      "execution_count": null,
      "metadata": {
        "id": "IZnXdcZ9Sc5L"
      },
      "outputs": [],
      "source": []
    },
    {
      "cell_type": "code",
      "execution_count": null,
      "metadata": {
        "id": "HiMGrVt5Sc5L"
      },
      "outputs": [],
      "source": []
    },
    {
      "cell_type": "markdown",
      "metadata": {
        "id": "kuf1ScBESc5M"
      },
      "source": [
        "## With KFold"
      ]
    },
    {
      "cell_type": "code",
      "execution_count": null,
      "metadata": {
        "id": "hErhuktrSc5M"
      },
      "outputs": [],
      "source": [
        "from sklearn.pipeline import make_pipeline\n",
        "from sklearn.compose import make_column_transformer\n",
        "\n",
        "# what K do I use??\n",
        "predictors = [\"BMI\", \"BloodPressure\"]\n",
        "\n",
        "X = data[predictors]\n",
        "y = data[\"Outcome\"]\n",
        "\n",
        "# split into training and test\n",
        "kf = KFold()\n",
        "\n",
        "for train,test in kf.split(X):\n",
        "    X_train = X.iloc[train,]\n",
        "    X_test = X.iloc[test,]\n",
        "    y_train = y[train]\n",
        "    y_test = y[test]\n",
        "    \n",
        "    # create model\n",
        "    \n",
        "\n",
        "    # create z score object\n",
        "    \n",
        "    # make pipeline\n",
        "    \n",
        "\n",
        "    # choose potential values of k\n",
        "    \n",
        "\n",
        "    # use grid search to find best parameters\n",
        "    \n",
        "\n",
        "\n",
        "\n"
      ]
    }
  ],
  "metadata": {
    "colab": {
      "name": "KNN--Class 14.ipynb",
      "provenance": []
    },
    "hide_input": false,
    "kernelspec": {
      "display_name": "Python 3.8.1 64-bit",
      "language": "python",
      "name": "python3"
    },
    "language_info": {
      "codemirror_mode": {
        "name": "ipython",
        "version": 3
      },
      "file_extension": ".py",
      "mimetype": "text/x-python",
      "name": "python",
      "nbconvert_exporter": "python",
      "pygments_lexer": "ipython3",
      "version": "3.8.1"
    },
    "toc": {
      "base_numbering": 1,
      "nav_menu": {},
      "number_sections": true,
      "sideBar": true,
      "skip_h1_title": false,
      "title_cell": "Table of Contents",
      "title_sidebar": "Contents",
      "toc_cell": false,
      "toc_position": {},
      "toc_section_display": true,
      "toc_window_display": false
    },
    "vscode": {
      "interpreter": {
        "hash": "aee8b7b246df8f9039afb4144a1f6fd8d2ca17a180786b69acc140d282b71a49"
      }
    }
  },
  "nbformat": 4,
  "nbformat_minor": 0
}
