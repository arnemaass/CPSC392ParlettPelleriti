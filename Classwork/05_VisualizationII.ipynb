{
 "cells": [
  {
   "cell_type": "code",
   "execution_count": null,
   "metadata": {},
   "outputs": [],
   "source": [
    "import warnings\n",
    "warnings.filterwarnings('ignore')"
   ]
  },
  {
   "attachments": {},
   "cell_type": "markdown",
   "metadata": {},
   "source": [
    "# Pre-Attentive Attributes\n",
    "\n",
    "<img src=\"https://drive.google.com/uc?export=view&id=1C_nS62xDdn7HYAZ2VaIsYItQi4AxrtIL\" />\n",
    "\n",
    "\n",
    "# Alt-Texts and Accessibility\n",
    "\n",
    "## Alt-Texts\n",
    "Alt-texts are text descriptions of an image that are read aloud to users using screen-readers. While anyone can benefit from alt-texts, it's especially important for people with visual impairments. In the lecture we talked about ways to make our visualizations more accessible (high contrast, large, clear font, contrasting colors...), but alt-texts take it one step further. \n",
    "\n",
    "The purpose of an alt-text is to convey the relevant information in plot to a user. Things like color/texture are not super relevant to users who cannot see, but you still want to communicate the information that color/texture is emphasizing, like the differences between groups. Let's do one together:\n",
    "\n",
    "[]()\n",
    "\n",
    "### Activity\n",
    "Your group was assigned a simple ggplot, write a good alt-text for it. Remember, the reader won't know things about ggplot, so instead of saying \"There's a geom_line()\" you can describe the line e.g. \"This is a solid line that shows the average rating over the years 2008-2021\". Once you're done, share your alt-text with the group.\n",
    "\n",
    "Then, once everyone is done, you will take another group's alt-text and try your best to re-create the plot by drawing it on a piece of paper or the whiteboard. The better your alt-text, the easier it will be!\n",
    "\n",
    "- [Group1 Image](https://github.com/cmparlettpelleriti/CPSC392ParlettPelleriti/blob/master/Data/Images/DataViz/Group1.jpg) | [Group1 Data](https://raw.githubusercontent.com/rfordatascience/tidytuesday/master/data/2022/2022-01-18/chocolate.csv)\n",
    "- [Group2 Image](https://github.com/cmparlettpelleriti/CPSC392ParlettPelleriti/blob/master/Data/Images/DataViz/Group2.jpg) | [Group2 Data](https://raw.githubusercontent.com/rfordatascience/tidytuesday/master/data/2022/2022-02-01/breed_traits.csv)\n",
    "- [Group3 Image](https://github.com/cmparlettpelleriti/CPSC392ParlettPelleriti/blob/master/Data/Images/DataViz/Group3.jpg) | [Group3 Data](https://raw.githubusercontent.com/rfordatascience/tidytuesday/master/data/2022/2022-07-05/rent.csv)\n",
    "- [Group4 Image](https://github.com/cmparlettpelleriti/CPSC392ParlettPelleriti/blob/master/Data/Images/DataViz/Group4.jpg) | [Group4 Data](https://raw.githubusercontent.com/rfordatascience/tidytuesday/master/data/2022/2022-08-30/pell.csv)\n",
    "- [Group5 Image](https://github.com/cmparlettpelleriti/CPSC392ParlettPelleriti/blob/master/Data/Images/DataViz/Group5.jpg) | [Group5 Data](https://raw.githubusercontent.com/rfordatascience/tidytuesday/master/data/2021/2021-06-01/castaways.csv)\n",
    "- [Group6 Image](https://github.com/cmparlettpelleriti/CPSC392ParlettPelleriti/blob/master/Data/Images/DataViz/Group6.jpg) | [Group6 Data](https://raw.githubusercontent.com/rfordatascience/tidytuesday/master/data/2021/2021-07-13/scoobydoo.csv)\n",
    "\n",
    "### How?\n",
    "\n",
    "You can add alt-texts on most common websites. On Twitter, you can click the ALT button to add a description, on LinkedIn, when uploading an image you can click the Alt. text tab and add an alt-text. On Slack, once you upload an image, you can click the `...` menu on the image and select 'Edit File Details' and add a Description. "
   ]
  },
  {
   "cell_type": "markdown",
   "metadata": {},
   "source": [
    "# Classwork\n",
    "\n",
    "1. Import the necessary packages. Use heart disease data set to build a BAD graph (`\"https://raw.githubusercontent.com/cmparlettpelleriti/CPSC392ParlettPelleriti/master/Data/heart.csv\"`).\n",
    "    * have fun with it! What could you make worse? Add visual clutter? Reduce Contrast? Make it inaccessible? Make the message difficult to understand?\n",
    "    * Talk in your Breakout groups about WHY these things make the graph bad.\n"
   ]
  },
  {
   "cell_type": "code",
   "execution_count": 1,
   "metadata": {},
   "outputs": [],
   "source": [
    "### YOUR CODE HERE ###"
   ]
  }
 ],
 "metadata": {
  "hide_input": false,
  "kernelspec": {
   "display_name": "Python 3.8.1 64-bit",
   "language": "python",
   "name": "python3"
  },
  "language_info": {
   "codemirror_mode": {
    "name": "ipython",
    "version": 3
   },
   "file_extension": ".py",
   "mimetype": "text/x-python",
   "name": "python",
   "nbconvert_exporter": "python",
   "pygments_lexer": "ipython3",
   "version": "3.8.1"
  },
  "toc": {
   "base_numbering": 1,
   "nav_menu": {},
   "number_sections": true,
   "sideBar": true,
   "skip_h1_title": false,
   "title_cell": "Table of Contents",
   "title_sidebar": "Contents",
   "toc_cell": false,
   "toc_position": {},
   "toc_section_display": true,
   "toc_window_display": false
  },
  "vscode": {
   "interpreter": {
    "hash": "aee8b7b246df8f9039afb4144a1f6fd8d2ca17a180786b69acc140d282b71a49"
   }
  }
 },
 "nbformat": 4,
 "nbformat_minor": 4
}
