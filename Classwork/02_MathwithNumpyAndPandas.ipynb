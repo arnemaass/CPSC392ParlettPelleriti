{
  "nbformat": 4,
  "nbformat_minor": 0,
  "metadata": {
    "colab": {
      "provenance": []
    },
    "kernelspec": {
      "name": "python3",
      "display_name": "Python 3"
    },
    "language_info": {
      "name": "python"
    },
    "accelerator": "TPU"
  },
  "cells": [
    {
      "cell_type": "markdown",
      "source": [
        "# Math with Numpy and Pandas"
      ],
      "metadata": {
        "id": "jEzVm8khWSLr"
      }
    },
    {
      "cell_type": "code",
      "source": [
        "import numpy as np\n",
        "import pandas as pd\n",
        "import time\n",
        "import math"
      ],
      "metadata": {
        "id": "hqH8VbN7R0kn"
      },
      "execution_count": null,
      "outputs": []
    },
    {
      "cell_type": "markdown",
      "source": [
        "<img src=\"https://drive.google.com/uc?export=view&id=17vrPmO6pUyio8yLpFSrSVu7jdR4Aeyj9\" width=\"600\"/>\n"
      ],
      "metadata": {
        "id": "7PMBtZlNaG4V"
      }
    },
    {
      "cell_type": "markdown",
      "source": [
        "## Creating Arrays"
      ],
      "metadata": {
        "id": "QTHFrpZVa92J"
      }
    },
    {
      "cell_type": "code",
      "source": [
        "# 1D array\n",
        "x = np.array([1,2,3,4,5,6,7])\n",
        "x"
      ],
      "metadata": {
        "colab": {
          "base_uri": "https://localhost:8080/"
        },
        "id": "1MEHVCcNuFE9",
        "outputId": "db81eed3-d5b0-4286-964c-868a8cb1acb9"
      },
      "execution_count": null,
      "outputs": [
        {
          "output_type": "execute_result",
          "data": {
            "text/plain": [
              "array([1, 2, 3, 4, 5, 6, 7])"
            ]
          },
          "metadata": {},
          "execution_count": 4
        }
      ]
    },
    {
      "cell_type": "code",
      "source": [
        "# shape\n",
        "x.shape"
      ],
      "metadata": {
        "colab": {
          "base_uri": "https://localhost:8080/"
        },
        "id": "GZaYbtPt11wf",
        "outputId": "5cedccf3-81fe-493d-eb78-4aa2d05201fe"
      },
      "execution_count": null,
      "outputs": [
        {
          "output_type": "execute_result",
          "data": {
            "text/plain": [
              "(7,)"
            ]
          },
          "metadata": {},
          "execution_count": 5
        }
      ]
    },
    {
      "cell_type": "code",
      "source": [
        "# 2D array\n",
        "y = np.array([(1,2),(3,4)])\n",
        "y"
      ],
      "metadata": {
        "colab": {
          "base_uri": "https://localhost:8080/"
        },
        "id": "SfsMfPUOuIa2",
        "outputId": "a5886baa-0afb-410d-e312-a351d1bfb967"
      },
      "execution_count": null,
      "outputs": [
        {
          "output_type": "execute_result",
          "data": {
            "text/plain": [
              "array([[1, 2],\n",
              "       [3, 4]])"
            ]
          },
          "metadata": {},
          "execution_count": 6
        }
      ]
    },
    {
      "cell_type": "code",
      "source": [
        "y.shape"
      ],
      "metadata": {
        "colab": {
          "base_uri": "https://localhost:8080/"
        },
        "id": "9dZ7CiW313pQ",
        "outputId": "da7b73f5-30be-40d5-86fe-32699488006f"
      },
      "execution_count": null,
      "outputs": [
        {
          "output_type": "execute_result",
          "data": {
            "text/plain": [
              "(2, 2)"
            ]
          },
          "metadata": {},
          "execution_count": 7
        }
      ]
    },
    {
      "cell_type": "code",
      "source": [
        "# 3D array\n",
        "\n",
        "w = np.array([((1,1,1), (1,1,1), (1,1,1)),\n",
        "              ((2,2,2), (2,2,2), (2,2,2))])\n",
        "w"
      ],
      "metadata": {
        "colab": {
          "base_uri": "https://localhost:8080/"
        },
        "id": "zOjrxujB7lsJ",
        "outputId": "36a0a30a-a79f-4c87-f137-787e14e593ce"
      },
      "execution_count": null,
      "outputs": [
        {
          "output_type": "execute_result",
          "data": {
            "text/plain": [
              "array([[[1, 1, 1],\n",
              "        [1, 1, 1],\n",
              "        [1, 1, 1]],\n",
              "\n",
              "       [[2, 2, 2],\n",
              "        [2, 2, 2],\n",
              "        [2, 2, 2]]])"
            ]
          },
          "metadata": {},
          "execution_count": 37
        }
      ]
    },
    {
      "cell_type": "code",
      "source": [
        "w.shape"
      ],
      "metadata": {
        "colab": {
          "base_uri": "https://localhost:8080/"
        },
        "id": "4bCh6Xca72aA",
        "outputId": "d920d714-097d-497a-9cc7-b37a0ffd98fd"
      },
      "execution_count": null,
      "outputs": [
        {
          "output_type": "execute_result",
          "data": {
            "text/plain": [
              "(2, 3, 3)"
            ]
          },
          "metadata": {},
          "execution_count": 38
        }
      ]
    },
    {
      "cell_type": "code",
      "source": [
        "# zeros\n",
        "so_many_zeros = np.zeros(shape = (2,2))\n",
        "so_many_zeros"
      ],
      "metadata": {
        "colab": {
          "base_uri": "https://localhost:8080/"
        },
        "id": "k_NYeLicbAeW",
        "outputId": "fd3db5e4-6f5c-4388-846c-7398f1eebb2c"
      },
      "execution_count": null,
      "outputs": [
        {
          "output_type": "execute_result",
          "data": {
            "text/plain": [
              "array([[0., 0.],\n",
              "       [0., 0.]])"
            ]
          },
          "metadata": {},
          "execution_count": 8
        }
      ]
    },
    {
      "cell_type": "code",
      "source": [
        "# ones\n",
        "so_many_ones = np.ones(shape = (2,2))\n",
        "so_many_ones"
      ],
      "metadata": {
        "colab": {
          "base_uri": "https://localhost:8080/"
        },
        "id": "wNyi3YnJuQsd",
        "outputId": "978848c9-73f7-4152-ae42-b9491a864298"
      },
      "execution_count": null,
      "outputs": [
        {
          "output_type": "execute_result",
          "data": {
            "text/plain": [
              "array([[1., 1.],\n",
              "       [1., 1.]])"
            ]
          },
          "metadata": {},
          "execution_count": 9
        }
      ]
    },
    {
      "cell_type": "code",
      "source": [
        "# range\n",
        "z = np.arange(0,10,2)\n",
        "z"
      ],
      "metadata": {
        "colab": {
          "base_uri": "https://localhost:8080/"
        },
        "id": "x493kT2Punhu",
        "outputId": "d22b5372-2016-4921-e4cd-8b80a5a4f8e0"
      },
      "execution_count": null,
      "outputs": [
        {
          "output_type": "execute_result",
          "data": {
            "text/plain": [
              "array([0, 2, 4, 6, 8])"
            ]
          },
          "metadata": {},
          "execution_count": 10
        }
      ]
    },
    {
      "cell_type": "code",
      "source": [
        "# sequence\n",
        "a = np.linspace(0,10,20)\n",
        "a"
      ],
      "metadata": {
        "colab": {
          "base_uri": "https://localhost:8080/"
        },
        "id": "yrWo1XC3vKOP",
        "outputId": "3de06a7b-3462-4c60-d1fd-1980bd602b88"
      },
      "execution_count": null,
      "outputs": [
        {
          "output_type": "execute_result",
          "data": {
            "text/plain": [
              "array([ 0.        ,  0.52631579,  1.05263158,  1.57894737,  2.10526316,\n",
              "        2.63157895,  3.15789474,  3.68421053,  4.21052632,  4.73684211,\n",
              "        5.26315789,  5.78947368,  6.31578947,  6.84210526,  7.36842105,\n",
              "        7.89473684,  8.42105263,  8.94736842,  9.47368421, 10.        ])"
            ]
          },
          "metadata": {},
          "execution_count": 11
        }
      ]
    },
    {
      "cell_type": "code",
      "source": [
        "# random\n",
        "np.random.random((10,10))"
      ],
      "metadata": {
        "colab": {
          "base_uri": "https://localhost:8080/"
        },
        "id": "gd1WjvjLvSMw",
        "outputId": "fbcda3d7-123d-4ab5-c877-dc6a99e60e2a"
      },
      "execution_count": null,
      "outputs": [
        {
          "output_type": "execute_result",
          "data": {
            "text/plain": [
              "array([[9.40748268e-01, 3.18637108e-02, 6.73022763e-01, 5.66319900e-01,\n",
              "        9.47577797e-02, 6.06725341e-01, 9.18601551e-01, 8.59268650e-04,\n",
              "        4.39108436e-01, 6.81504065e-01],\n",
              "       [4.02297637e-01, 8.93449851e-01, 1.33778500e-01, 7.36339154e-01,\n",
              "        8.17732238e-01, 8.00922757e-01, 7.84765571e-01, 7.31773754e-01,\n",
              "        1.80564749e-01, 8.91177236e-02],\n",
              "       [9.33879319e-01, 2.91880403e-01, 1.23430227e-01, 2.84669881e-02,\n",
              "        1.85491934e-01, 5.22722348e-01, 5.52792895e-01, 1.89359074e-01,\n",
              "        6.96174843e-01, 5.74059438e-01],\n",
              "       [1.63982488e-01, 9.96098933e-01, 4.91878853e-01, 2.96353995e-01,\n",
              "        5.47362018e-01, 3.45274806e-01, 6.87088344e-01, 4.25976126e-01,\n",
              "        8.78101744e-01, 2.35824240e-01],\n",
              "       [9.13098523e-01, 8.02370597e-01, 6.59184485e-01, 9.50076094e-01,\n",
              "        9.89674292e-01, 7.90504686e-01, 3.08744271e-01, 6.80396934e-01,\n",
              "        5.76319883e-02, 9.27393897e-02],\n",
              "       [8.07986990e-01, 8.99553245e-01, 8.72553383e-01, 3.00762114e-01,\n",
              "        8.49036178e-01, 1.80651322e-01, 5.71323627e-01, 1.47678801e-01,\n",
              "        7.29103406e-01, 6.56962736e-01],\n",
              "       [9.82288345e-01, 9.55361184e-01, 3.99734962e-02, 4.08641832e-01,\n",
              "        7.48482344e-01, 1.94911420e-01, 8.42873849e-01, 8.00392719e-01,\n",
              "        2.90984342e-01, 9.29071664e-01],\n",
              "       [6.33342848e-01, 6.35522675e-01, 6.35034503e-01, 2.90445003e-01,\n",
              "        2.04954986e-01, 7.44409723e-02, 8.53551441e-01, 5.73773582e-01,\n",
              "        3.20219437e-01, 4.56454527e-01],\n",
              "       [4.64322123e-01, 2.24873298e-01, 4.92739211e-02, 1.76091713e-01,\n",
              "        4.18583731e-01, 6.89098328e-02, 4.01160348e-01, 2.44060528e-01,\n",
              "        6.37629377e-01, 8.23743873e-02],\n",
              "       [8.98973657e-01, 9.89714372e-01, 4.89015758e-01, 2.95352979e-01,\n",
              "        4.86288427e-01, 1.64739269e-01, 9.37521761e-01, 9.77355266e-01,\n",
              "        4.88927610e-02, 5.92203963e-01]])"
            ]
          },
          "metadata": {},
          "execution_count": 12
        }
      ]
    },
    {
      "cell_type": "markdown",
      "source": [
        "## Review of Vectorization"
      ],
      "metadata": {
        "id": "fWCr5-cfWV5q"
      }
    },
    {
      "cell_type": "code",
      "source": [
        "# create arrays\n",
        "x = np.array([2,2,2,2])\n",
        "y = np.array([1,2,3,4])"
      ],
      "metadata": {
        "id": "EIs4No58v7hZ"
      },
      "execution_count": null,
      "outputs": []
    },
    {
      "cell_type": "code",
      "source": [
        "# addition\n",
        "x + y"
      ],
      "metadata": {
        "colab": {
          "base_uri": "https://localhost:8080/"
        },
        "id": "xge8-AAJv_8P",
        "outputId": "251bdc57-2d8f-406a-f82b-50c9495e8b65"
      },
      "execution_count": null,
      "outputs": [
        {
          "output_type": "execute_result",
          "data": {
            "text/plain": [
              "array([3, 4, 5, 6])"
            ]
          },
          "metadata": {},
          "execution_count": 14
        }
      ]
    },
    {
      "cell_type": "code",
      "source": [
        "# multiplication\n",
        "x*y"
      ],
      "metadata": {
        "colab": {
          "base_uri": "https://localhost:8080/"
        },
        "id": "Q3XdHY90wAzb",
        "outputId": "aa8b9fe7-00ca-4b85-c3a5-9866c3a15602"
      },
      "execution_count": null,
      "outputs": [
        {
          "output_type": "execute_result",
          "data": {
            "text/plain": [
              "array([2, 4, 6, 8])"
            ]
          },
          "metadata": {},
          "execution_count": 15
        }
      ]
    },
    {
      "cell_type": "code",
      "source": [
        "# masking\n",
        "\n",
        "mask = np.array([1,0,1,1,0,0,0,0])\n",
        "out = np.array([10,1,4,5,6,7,8,8])\n",
        "\n",
        "mask * out"
      ],
      "metadata": {
        "colab": {
          "base_uri": "https://localhost:8080/"
        },
        "id": "cnyqrPl57UBK",
        "outputId": "fcb39fb8-2ffd-44eb-f4d0-d08bcdb34564"
      },
      "execution_count": null,
      "outputs": [
        {
          "output_type": "execute_result",
          "data": {
            "text/plain": [
              "array([10,  0,  4,  5,  0,  0,  0,  0])"
            ]
          },
          "metadata": {},
          "execution_count": 34
        }
      ]
    },
    {
      "cell_type": "code",
      "source": [
        "# division\n",
        "y/x"
      ],
      "metadata": {
        "colab": {
          "base_uri": "https://localhost:8080/"
        },
        "id": "W-utdv1RwBuA",
        "outputId": "f56c1291-2793-4f3e-cff5-a1f9ad865e74"
      },
      "execution_count": null,
      "outputs": [
        {
          "output_type": "execute_result",
          "data": {
            "text/plain": [
              "array([0.5, 1. , 1.5, 2. ])"
            ]
          },
          "metadata": {},
          "execution_count": 16
        }
      ]
    },
    {
      "cell_type": "code",
      "source": [
        "# comparison\n",
        "z = np.array([-2,1,0,4,-3,7])\n",
        "z > 0"
      ],
      "metadata": {
        "colab": {
          "base_uri": "https://localhost:8080/"
        },
        "id": "CG4guBsGwExc",
        "outputId": "a180912d-e2f2-4678-e009-70f8a9499c3c"
      },
      "execution_count": null,
      "outputs": [
        {
          "output_type": "execute_result",
          "data": {
            "text/plain": [
              "array([False,  True, False,  True, False,  True])"
            ]
          },
          "metadata": {},
          "execution_count": 17
        }
      ]
    },
    {
      "cell_type": "code",
      "execution_count": null,
      "metadata": {
        "colab": {
          "base_uri": "https://localhost:8080/"
        },
        "id": "NXVwrTmQRiDT",
        "outputId": "e5e0163b-0fdb-41a0-ab46-5bd83c8a1eda"
      },
      "outputs": [
        {
          "output_type": "execute_result",
          "data": {
            "text/plain": [
              "83.0"
            ]
          },
          "metadata": {},
          "execution_count": 18
        }
      ],
      "source": [
        "# dot product/linear combinations\n",
        "gradeweights = np.array([0.2,0.2,0.2,0.2,0.2])\n",
        "grades = np.array([90,80,70,100,75])\n",
        "\n",
        "final_grade = gradeweights.dot(grades)\n",
        "final_grade"
      ]
    },
    {
      "cell_type": "markdown",
      "source": [
        "## Distance and Norms\n",
        "\n",
        "Norms are a way of measuring the *size* of a vector. An $L_p$ norm takes the **sum** of all the elements in the vector to the $p$th power, and takes the $p$th root of that sum.\n",
        "\n",
        "$$L_p = \\sqrt[p]{\\sum_{i=1}^{n} x_i^p}$$\n",
        "\n",
        "<img src=\"https://drive.google.com/uc?export=view&id=17wpdRjx0b4eWGZXuo9V2Tz9h8WMBmnSL\" width=\"300\"/>\n"
      ],
      "metadata": {
        "id": "HL4jnmGMWidj"
      }
    },
    {
      "cell_type": "code",
      "source": [
        "# size/norm of array\n",
        "x = np.array([4,3])\n",
        "\n",
        "np.linalg.norm(x)"
      ],
      "metadata": {
        "colab": {
          "base_uri": "https://localhost:8080/"
        },
        "id": "vej2depGgBkm",
        "outputId": "1cf60929-b741-433b-aaab-c88bffb646ae"
      },
      "execution_count": null,
      "outputs": [
        {
          "output_type": "execute_result",
          "data": {
            "text/plain": [
              "5.0"
            ]
          },
          "metadata": {},
          "execution_count": 19
        }
      ]
    },
    {
      "cell_type": "markdown",
      "source": [
        "A common norm you may know: Euclidean Distance.\n",
        "\n",
        "**Euclidean Distance** is measured as:\n",
        "\n",
        "$$\\text{dist} = \\sqrt{\\sum_{i=1}^n (\\color{red}{x_i-y_y})^2}$$\n",
        "\n",
        "\n",
        "Notice, this is just the $L_2$ Norm of the difference between $\\mathbf{x}$ and $\\mathbf{y}$. That's because Euclidean Distance is measuring the *size* of the vector that goes from $\\mathbf{x}$ to $\\mathbf{y}$.\n",
        "\n",
        "<img src=\"https://drive.google.com/uc?export=view&id=1iVoTY7hS4x7IiS-_weewV3QtDYOYWJYH\" width=\"300\"/>\n"
      ],
      "metadata": {
        "id": "nFj3KqLsf-JP"
      }
    },
    {
      "cell_type": "code",
      "source": [
        "# distance\n",
        "y = np.array([1,4])\n",
        "\n",
        "np.linalg.norm(x-y)"
      ],
      "metadata": {
        "colab": {
          "base_uri": "https://localhost:8080/"
        },
        "id": "SebAkh1zf355",
        "outputId": "edb635fe-93b5-49a5-de01-db3c5a195ace"
      },
      "execution_count": null,
      "outputs": [
        {
          "output_type": "execute_result",
          "data": {
            "text/plain": [
              "3.1622776601683795"
            ]
          },
          "metadata": {},
          "execution_count": 20
        }
      ]
    },
    {
      "cell_type": "markdown",
      "source": [
        "## Mean, SD, Covariance with Numpy"
      ],
      "metadata": {
        "id": "0iW1yi7AWmS6"
      }
    },
    {
      "cell_type": "code",
      "source": [
        "# create arrays\n",
        "x = np.array([-2.16,-0.43,1.99,1.84,-1.44,-2.37,1.61,2.93,-0.29,-3.17])\n",
        "y = np.array([-5.02,1.65,4.67,1.32,-6.1,-1.03,7.6,7.91,-3.89,0.24])"
      ],
      "metadata": {
        "id": "xZgg4ZU4Wp8J"
      },
      "execution_count": null,
      "outputs": []
    },
    {
      "cell_type": "code",
      "source": [
        "# mean\n",
        "np.mean(x)"
      ],
      "metadata": {
        "colab": {
          "base_uri": "https://localhost:8080/"
        },
        "id": "nnsvZKqwwi7K",
        "outputId": "9092f476-d6e2-469a-fa31-6d53562d3281"
      },
      "execution_count": null,
      "outputs": [
        {
          "output_type": "execute_result",
          "data": {
            "text/plain": [
              "-0.14900000000000002"
            ]
          },
          "metadata": {},
          "execution_count": 22
        }
      ]
    },
    {
      "cell_type": "code",
      "source": [
        "# standard deviation\n",
        "np.std(x)"
      ],
      "metadata": {
        "colab": {
          "base_uri": "https://localhost:8080/"
        },
        "id": "xh1gMat0wm4v",
        "outputId": "3af3fa74-4654-4fbc-b686-dc47f8c9a207"
      },
      "execution_count": null,
      "outputs": [
        {
          "output_type": "execute_result",
          "data": {
            "text/plain": [
              "2.0242205907459794"
            ]
          },
          "metadata": {},
          "execution_count": 23
        }
      ]
    },
    {
      "cell_type": "code",
      "source": [
        "# std by hand\n",
        "np.sqrt(np.sum((x - np.mean(x))**2)/len(x))"
      ],
      "metadata": {
        "colab": {
          "base_uri": "https://localhost:8080/"
        },
        "id": "mBCSBd7gwoL_",
        "outputId": "814e2542-90e9-485b-aeab-13bcaf0f2731"
      },
      "execution_count": null,
      "outputs": [
        {
          "output_type": "execute_result",
          "data": {
            "text/plain": [
              "2.0242205907459794"
            ]
          },
          "metadata": {},
          "execution_count": 24
        }
      ]
    },
    {
      "cell_type": "code",
      "source": [
        "# correlation matrix\n",
        "np.corrcoef(x,y)"
      ],
      "metadata": {
        "colab": {
          "base_uri": "https://localhost:8080/"
        },
        "id": "pryI2vo8yQbM",
        "outputId": "f443918e-34bb-48e2-9131-8495bfc1f61a"
      },
      "execution_count": null,
      "outputs": [
        {
          "output_type": "execute_result",
          "data": {
            "text/plain": [
              "array([[1.        , 0.73704025],\n",
              "       [0.73704025, 1.        ]])"
            ]
          },
          "metadata": {},
          "execution_count": 25
        }
      ]
    },
    {
      "cell_type": "markdown",
      "source": [
        "## LeetCode/Interview Questions with Numpy\n",
        "\n",
        "\n",
        "### Simple Linear Regression from Scratch with Numpy\n",
        "\n",
        "We know that in a simple linear regression model with one predictor, the coefficient is:\n",
        "\n",
        "$$b = \\rho*\\frac{s_y}{s_x} = \\frac{cov(x,y)}{var(x)}$$\n",
        "\n",
        "and the intercept will be:\n",
        "\n",
        "$$a = \\bar{y} - b*\\bar{x}$$\n",
        "\n",
        "where $\\bar{y}$ is the mean of the outcome, $y$ and $\\bar{x}$ is the mean of the predictor, $x$."
      ],
      "metadata": {
        "id": "cZf796fyWxov"
      }
    },
    {
      "cell_type": "code",
      "source": [
        "b = np.corrcoef(x,y)[0,1] * (np.std(y)/np.std(x))\n",
        "b"
      ],
      "metadata": {
        "colab": {
          "base_uri": "https://localhost:8080/"
        },
        "id": "H7fpiXjIXOfV",
        "outputId": "2beb1c68-b00b-497e-8290-a710b2fcf8d6"
      },
      "execution_count": null,
      "outputs": [
        {
          "output_type": "execute_result",
          "data": {
            "text/plain": [
              "1.7072893046902855"
            ]
          },
          "metadata": {},
          "execution_count": 26
        }
      ]
    },
    {
      "cell_type": "code",
      "source": [
        "a = np.mean(y) - b*np.mean(x)\n",
        "a"
      ],
      "metadata": {
        "colab": {
          "base_uri": "https://localhost:8080/"
        },
        "id": "FThng0LdywWj",
        "outputId": "8a608dd3-c41a-4cdb-8478-4ace26089e73"
      },
      "execution_count": null,
      "outputs": [
        {
          "output_type": "execute_result",
          "data": {
            "text/plain": [
              "0.9893861063988525"
            ]
          },
          "metadata": {},
          "execution_count": 27
        }
      ]
    },
    {
      "cell_type": "markdown",
      "source": [
        "### Prime Check\n",
        "\n",
        "We'll write a function checking if a number is prime. To be efficient, we'll only check values $\\leq \\sqrt{n}$. This is because, if a number cannot have a pair of prime factors where *both* are $\\gt \\sqrt{n}$. Thus, if it has a prime factor other than 1 and itself, one must be between 2 and $\\sqrt{n}$ (inclusive).\n",
        "\n",
        "You might remember this from CPSC 230!\n",
        "\n"
      ],
      "metadata": {
        "id": "qAJLtIs8h2aw"
      }
    },
    {
      "cell_type": "code",
      "source": [
        "n = 97"
      ],
      "metadata": {
        "id": "kkp0C8qXmhHL"
      },
      "execution_count": null,
      "outputs": []
    },
    {
      "cell_type": "code",
      "source": [
        "def is_prime(n):\n",
        "  for div in range(2,int(math.sqrt(n)) + 1):\n",
        "    if n%div == 0:\n",
        "      return(False)\n",
        "  else:\n",
        "    return(True)\n",
        "\n",
        "is_prime(n)"
      ],
      "metadata": {
        "colab": {
          "base_uri": "https://localhost:8080/"
        },
        "id": "PdkGm_gKmExO",
        "outputId": "b19228b8-ccc5-4dd0-f3a8-079755bbe337"
      },
      "execution_count": null,
      "outputs": [
        {
          "output_type": "execute_result",
          "data": {
            "text/plain": [
              "True"
            ]
          },
          "metadata": {},
          "execution_count": 29
        }
      ]
    },
    {
      "cell_type": "code",
      "source": [
        "def is_prime(n):\n",
        "  check = np.arange(2,int(np.sqrt(n)) + 1)\n",
        "  return(not np.any(n%check == 0))\n",
        "is_prime(n)"
      ],
      "metadata": {
        "colab": {
          "base_uri": "https://localhost:8080/"
        },
        "id": "uGQpQSg7iW3W",
        "outputId": "a659785c-b793-4431-99ca-24a7858d2784"
      },
      "execution_count": null,
      "outputs": [
        {
          "output_type": "execute_result",
          "data": {
            "text/plain": [
              "True"
            ]
          },
          "metadata": {},
          "execution_count": 30
        }
      ]
    },
    {
      "cell_type": "markdown",
      "source": [
        "### Mice Eating Cheese\n",
        "From [leetcode](https://leetcode.com/problems/mice-and-cheese/description/)\n",
        "\n",
        "There are two mice and `n` different types of cheese, each type of cheese should be eaten by exactly one mouse.\n",
        "\n",
        "A point of the cheese with index `i` (0-indexed) is:\n",
        "- `reward1[i]` if the first mouse eats it.\n",
        "- `reward2[i]` if the second mouse eats it.\n",
        "\n",
        "You are given a positive integer array `reward1`, a positive integer array `reward2`, and a non-negative integer `k`.\n",
        "\n",
        "Return the maximum points the mice can achieve if the first mouse eats exactly `k` types of cheese.\n",
        "\n",
        "\n",
        "(HINT: `np.argpartition(list,-k)[-k:]` returns the indices of the k *largest* values in `list`)\n",
        "\n"
      ],
      "metadata": {
        "id": "NJ3s1DtMnxS9"
      }
    },
    {
      "cell_type": "code",
      "source": [
        "def max_reward(reward1, reward2, k):\n",
        "\n",
        "  if k == 0:\n",
        "    return(np.sum(reward2))\n",
        "\n",
        "  diff = reward1 - reward2 # positive means first mouse better\n",
        "  mouse1_eats = np.argpartition(diff,-k)[-k:] # grab k largest differences\n",
        "  mouse1_mask = np.isin(np.arange(0,len(reward1)), mouse1_eats) # create mask\n",
        "\n",
        "  # use mask to get reward\n",
        "  reward = sum(mouse1_mask*reward1) + sum((1-mouse1_mask)*reward2)\n",
        "  return(reward)"
      ],
      "metadata": {
        "id": "-A0IY3jkoPa0"
      },
      "execution_count": null,
      "outputs": []
    },
    {
      "cell_type": "code",
      "source": [
        "x = np.array([1,1])\n",
        "y = np.array([1,1])\n",
        "k = 2"
      ],
      "metadata": {
        "id": "syIkb-2ZryWf"
      },
      "execution_count": null,
      "outputs": []
    },
    {
      "cell_type": "code",
      "source": [
        "max_reward(x,y,k)"
      ],
      "metadata": {
        "colab": {
          "base_uri": "https://localhost:8080/"
        },
        "id": "Xyy7SkEenwwy",
        "outputId": "a17ba198-e2fe-4ebc-f4a7-d4207757c824"
      },
      "execution_count": null,
      "outputs": [
        {
          "output_type": "execute_result",
          "data": {
            "text/plain": [
              "2"
            ]
          },
          "metadata": {},
          "execution_count": 33
        }
      ]
    }
  ]
}