{
 "cells": [
  {
   "cell_type": "code",
   "execution_count": null,
   "metadata": {},
   "outputs": [],
   "source": [
    "# import the necessary packages\n",
    "import warnings\n",
    "warnings.filterwarnings('ignore')\n",
    "\n",
    "import pandas as pd\n",
    "import numpy as np\n",
    "\n",
    "from sklearn.cluster import KMeans\n",
    "from sklearn.metrics import silhouette_score"
   ]
  },
  {
   "cell_type": "markdown",
   "metadata": {},
   "source": [
    "It may have been a WHILE since CPSC 230, so use this document now and throughout the semester to help you refresh your python knoweldge as well as learn the basics of `numpy` and `pandas` which we will use in this class.\n",
    "\n",
    "This first part of this review is set up where you'll see an example of an important concept, and then have a chance to practice it yourself. If you're not super confident about your python skills, use this as a chance to get up to speed!"
   ]
  },
  {
   "cell_type": "markdown",
   "metadata": {},
   "source": [
    "# Basics\n",
    "\n",
    "## Indexing\n",
    "\n",
    "In python, when an object is a collection (like a list, a tuple, or a string...etc), you can specify which items you want from that collection by putting the *index* (or multiple indices) of the item in square brackets."
   ]
  },
  {
   "cell_type": "code",
   "execution_count": null,
   "metadata": {},
   "outputs": [],
   "source": [
    "my_list = [4,8,15,16,23,42]\n",
    "\n",
    "# grab 15 from the list above\n",
    "\n",
    "my_list[2] # remember indexing begins at 0"
   ]
  },
  {
   "cell_type": "code",
   "execution_count": null,
   "metadata": {},
   "outputs": [],
   "source": [
    "my_string = \"Beautiful is better than ugly. Explicit is better than implicit. Simple is better than complex. Complex is better than complicated.\"\n",
    "\n",
    "# grab \"better\" from my_string\n",
    "\n",
    "my_string[13:19]"
   ]
  },
  {
   "cell_type": "code",
   "execution_count": null,
   "metadata": {},
   "outputs": [],
   "source": [
    "my_tuple = (50,100,25)\n",
    "\n",
    "# grab 50 from my_tuple\n",
    "\n",
    "my_tuple[0]"
   ]
  },
  {
   "cell_type": "markdown",
   "metadata": {},
   "source": [
    "Dictionaries, because they're not ordered, rely on key-value pairs rather than numeric indices. To grab a value from a dictionary, specify the key related to the value you'd like."
   ]
  },
  {
   "cell_type": "code",
   "execution_count": null,
   "metadata": {},
   "outputs": [],
   "source": [
    "my_dict = {\"Happy\": True, \"Age\": 45, \"Name\": \"Janice\", \"Children\": [\"Ted\", \"Alan\", \"Jake\"]}\n",
    "\n",
    "# grab name of 3rd child, Jake, from my_dict\n",
    "\n",
    "my_dict[\"Children\"][2] # from value associated with the key Children, grab the item @ the 2nd index"
   ]
  },
  {
   "cell_type": "markdown",
   "metadata": {},
   "source": [
    "## Your Turn\n",
    "\n",
    "From the object `CPSC392`, grab the average quiz grade for Carla.\n",
    "<img src=\"https://drive.google.com/uc?export=view&id=1ghyQPx1N8dmU3MV4TrANvqNhGwnLni72\" width = 200px />"
   ]
  },
  {
   "cell_type": "code",
   "execution_count": null,
   "metadata": {},
   "outputs": [],
   "source": [
    "CPSC392 = {\"Jimmy\": {\"QuizGrades\": [9,5,9,8,7], \"Major\": \"Computer Science\"},\n",
    "          \"Brenda\": {\"QuizGrades\": [9,10,9,10,7], \"Major\": \"Business\"},\n",
    "          \"Jacqueline\": {\"QuizGrades\": [3,6,2,8,9], \"Major\": \"Computer Science\"},\n",
    "          \"Bethany\": {\"QuizGrades\": [2,2,0,4,5], \"Major\": \"Business\"},\n",
    "          \"Kristen\": {\"QuizGrades\": [9,7,9,9,9], \"Major\": \"Computer Science\"},\n",
    "          \"Elissa\": {\"QuizGrades\": [4,4,5,8,2], \"Major\": \"Foreign Languages\"},\n",
    "          \"Carla\": {\"QuizGrades\": [7,6,8,7,9], \"Major\": \"Biology\"}}\n",
    "\n",
    "###"
   ]
  },
  {
   "cell_type": "markdown",
   "metadata": {},
   "source": [
    "## If, Else, Elif\n",
    "\n",
    "If, Else, and Elif are a part of *control flow* which allows you to run blocks of code only when a condition is met (or not). \n",
    "\n",
    "### If\n",
    "An if statement allows you to run a block of code only when a conition is `True`. \n",
    "\n",
    "For example:"
   ]
  },
  {
   "cell_type": "code",
   "execution_count": 10,
   "metadata": {},
   "outputs": [
    {
     "name": "stdout",
     "output_type": "stream",
     "text": [
      "10 is even\n"
     ]
    }
   ],
   "source": [
    "if 10%2 == 0:\n",
    "    print(\"10 is even\")"
   ]
  },
  {
   "cell_type": "markdown",
   "metadata": {},
   "source": [
    "In the code above the condition, `10%2 == 0`, evaluates to `True`, so the if suite (`print(\"10 is even\")`) ran.\n",
    "\n",
    "The if suite will not run if the condition is `False`."
   ]
  },
  {
   "cell_type": "code",
   "execution_count": 11,
   "metadata": {},
   "outputs": [],
   "source": [
    "# nothing prints out\n",
    "\n",
    "if 11%2 == 0:\n",
    "    print(\"11 is even\")"
   ]
  },
  {
   "cell_type": "markdown",
   "metadata": {},
   "source": [
    "### Else\n",
    "\n",
    "Else statements allow you to run *alternative* code when the if statement is **not** `True`.\n",
    "\n",
    "For example, in the code below, the if suite checks whether the number `i` is even (using the `%` operator), and prints out `\"even\"` if it is. If it is not even (and the condition is `False`), it prints out `\"odd\"`."
   ]
  },
  {
   "cell_type": "code",
   "execution_count": 12,
   "metadata": {},
   "outputs": [
    {
     "name": "stdout",
     "output_type": "stream",
     "text": [
      "even\n"
     ]
    }
   ],
   "source": [
    "i = 6\n",
    "\n",
    "if i % 2 == 0:\n",
    "    print(\"even\")\n",
    "else:\n",
    "    print(\"odd\")"
   ]
  },
  {
   "cell_type": "markdown",
   "metadata": {},
   "source": [
    "### Elif\n",
    "\n",
    "As you might gather from the name, elif is a combination of else + if. It allows you to check an *additional* condition if the original one (from the if statement) is not met.\n",
    "\n",
    "For example, as a teacher, I often teach in different rooms for my MW classes, compared to my TTh classes. And on Friday I might work in my office. The If/Elif/Else below can help me keep track of where I need to go."
   ]
  },
  {
   "cell_type": "code",
   "execution_count": 13,
   "metadata": {},
   "outputs": [
    {
     "name": "stdout",
     "output_type": "stream",
     "text": [
      "What day is it? Monday\n",
      "Go to Keck\n"
     ]
    }
   ],
   "source": [
    "day = input(\"What day is it? \")\n",
    "\n",
    "if day in [\"Monday\", \"Wednesday\"]:\n",
    "    print(\"Go to Keck\")\n",
    "elif day in [\"Tuesday\", \"Thursday\"]:\n",
    "    print(\"Go to Leatherby Library\")\n",
    "elif day == \"Friday\":\n",
    "    print(\"Go to Swenson Hall\")\n",
    "else:\n",
    "    print(\"Why are you going to campus!?!\")"
   ]
  },
  {
   "cell_type": "markdown",
   "metadata": {},
   "source": [
    "Notice that elif only runs when the original if condition is `False`. If all the if and elif conditions are `False`, then (and only then) will the else suite run.\n",
    "\n",
    "## Your Turn\n",
    "\n",
    "Using if, elif, and else as needed, check whether a variable, x, is negative, zero, or positive.\n",
    "<img src=\"https://drive.google.com/uc?export=view&id=1ghyQPx1N8dmU3MV4TrANvqNhGwnLni72\" width = 200px />\n"
   ]
  },
  {
   "cell_type": "code",
   "execution_count": null,
   "metadata": {},
   "outputs": [],
   "source": [
    "### YOUR CODE HERE ###"
   ]
  },
  {
   "cell_type": "markdown",
   "metadata": {},
   "source": [
    "## Your Turn\n",
    "\n",
    "Use if/elif/else statements to ask the user to input their grade as a percentage (0-100%), and print out whether they have an A, B, C, D or F. (Use 90,80,70,60, and < 60 as your grade cutoffs.)\n",
    "<img src=\"https://drive.google.com/uc?export=view&id=1ghyQPx1N8dmU3MV4TrANvqNhGwnLni72\" width = 200px />"
   ]
  },
  {
   "cell_type": "code",
   "execution_count": null,
   "metadata": {},
   "outputs": [],
   "source": [
    "### YOUR CODE HERE ###"
   ]
  },
  {
   "cell_type": "markdown",
   "metadata": {},
   "source": [
    "## While Loops\n",
    "\n",
    "While loops are a control flow method that allow you to run a block of code over and over until the condition you're looping on is `False`.\n",
    "\n",
    "For example, the code below will run until `i` is 10 or greater."
   ]
  },
  {
   "cell_type": "code",
   "execution_count": 9,
   "metadata": {},
   "outputs": [
    {
     "name": "stdout",
     "output_type": "stream",
     "text": [
      "i is now 0\n",
      "i is now 1\n",
      "i is now 2\n",
      "i is now 3\n",
      "i is now 4\n",
      "i is now 5\n",
      "i is now 6\n",
      "i is now 7\n",
      "i is now 8\n",
      "i is now 9\n"
     ]
    }
   ],
   "source": [
    "i = 0\n",
    "while i < 10:\n",
    "    print(\"i is now\", i)\n",
    "    i += 1"
   ]
  },
  {
   "cell_type": "markdown",
   "metadata": {},
   "source": [
    "notice that our condition `i < 10`, is evaluated multiple times. The first time, `i = 0`, so `i < 10` is true, and the while suite runs. Inside the while suite, `i` is incremented by 1, leaving `i` equal to 1. Thus, the next time the condition is checked, it is also `True`, because `1` is less than `10`, and so the while suite runs again.\n",
    "\n",
    "This will continue until `i` is finally equal to `10`, in which case `i < 10` would evaluate to `False` and the while loop will stop.\n",
    "\n",
    "It's important that your condition could EVENTUALLY be `False`, otherwise you run into an *infinite loop*."
   ]
  },
  {
   "cell_type": "code",
   "execution_count": null,
   "metadata": {},
   "outputs": [],
   "source": [
    "# don't run! this is an infinite loop!\n",
    "# while 1 == 1:\n",
    "#     print(\"ahhh!!!\")"
   ]
  },
  {
   "cell_type": "markdown",
   "metadata": {},
   "source": [
    "## Your Turn\n",
    "\n",
    "Use a while loop to ask a user to enter a password (using `input()`), and continue to ask them for a password until the one they give you is at least 10 characters long and has at least one of the following special characters: `'!@#$%^&*()?'`.\n",
    "\n",
    "<img src=\"https://drive.google.com/uc?export=view&id=1ghyQPx1N8dmU3MV4TrANvqNhGwnLni72\" width = 200px />"
   ]
  },
  {
   "cell_type": "code",
   "execution_count": null,
   "metadata": {},
   "outputs": [],
   "source": [
    "### YOUR CODE HERE ###"
   ]
  },
  {
   "cell_type": "markdown",
   "metadata": {},
   "source": [
    "## Range\n",
    "\n",
    "You can use the `range()` function in order to get a sequence of integers. Range takes 3 arguments:\n",
    "\n",
    "- `start`: which number to start at\n",
    "- `stop`: which number to stop at (this number itself is not included)\n",
    "- `step`: what incrememnt to step by (default is 1, `step = 2` would give you every other integer)"
   ]
  },
  {
   "cell_type": "code",
   "execution_count": null,
   "metadata": {},
   "outputs": [],
   "source": [
    "r = range(0,100,2)\n",
    "\n",
    "r_list = list(r) # just to print it out\n",
    "\n",
    "print(r_list)"
   ]
  },
  {
   "cell_type": "code",
   "execution_count": null,
   "metadata": {},
   "outputs": [],
   "source": [
    "s = range(10, 24)\n",
    "\n",
    "s_list = list(s)\n",
    "\n",
    "print(s_list)"
   ]
  },
  {
   "cell_type": "markdown",
   "metadata": {},
   "source": [
    "## For Loops\n",
    "\n",
    "For loops are a convenient way to do the same set of actions once for every item in a collection. For example, say I have a list of names `[\"Chelsea\", \"Tony\", \"Julie\", \"Sam\", \"Chris\"]`, and for each name, I want to print out the greeting `\"Hello, [name]\"`. I can do that using a for loop.\n",
    "\n",
    "The syntax is:\n",
    "\n",
    "```\n",
    "for item in collection:\n",
    "    # stuff you want to do\n",
    "```"
   ]
  },
  {
   "cell_type": "code",
   "execution_count": 2,
   "metadata": {},
   "outputs": [
    {
     "name": "stdout",
     "output_type": "stream",
     "text": [
      "Hello, Chelsea\n",
      "Hello, Tony\n",
      "Hello, Julie\n",
      "Hello, Sam\n",
      "Hello, Chris\n",
      "Hello, Rocco\n"
     ]
    }
   ],
   "source": [
    "# print out a greeting for each person\n",
    "names = [\"Chelsea\", \"Tony\", \"Julie\", \"Sam\", \"Chris\", \"Rocco\"]\n",
    "\n",
    "for n in names:\n",
    "    print(\"Hello, \" + n)"
   ]
  },
  {
   "cell_type": "markdown",
   "metadata": {},
   "source": [
    "For loops can loop through any collection, a list, a tuple, a dictionary, or a string! For example, we can use a for loop to count the number of punctuation marks in the string `my_string` below."
   ]
  },
  {
   "cell_type": "code",
   "execution_count": 3,
   "metadata": {},
   "outputs": [
    {
     "name": "stdout",
     "output_type": "stream",
     "text": [
      "There are 229 punctuation marks!\n"
     ]
    }
   ],
   "source": [
    "my_string = '''\n",
    "Man:    Man!\n",
    "Arthur: Man, sorry....  What night lives in that castle over there?\n",
    "Man:    I'm thirty-seven!\n",
    "Arthur: (suprised) What?\n",
    "Man:    I'm thirty-seven!  I'm not old--\n",
    "Arthur: Well I can't just call you \"man\"...\n",
    "Man:    Well you could say \"Dennis\"--\n",
    "Arthur: I didn't know you were called Dennis!\n",
    "Man:    Well, you didn't bother to find out, did you?!\n",
    "Arthur: I did say sorry about the \"old woman\", but from behind, you looked--\n",
    "Man:    Well I object to your...you automatically treat me like an inferior!\n",
    "Arthur: Well I *am* king...\n",
    "Man:    Oh, king, eh, very nice.  And 'ow'd you get that, eh?\n",
    "        (he reaches his destination and stops, dropping the cart)\n",
    "        By exploiting the workers!  By 'angin' on to outdated imperialist dogma\n",
    "        which perpetuates the economic and social differences in our society.\n",
    "        If there's ever going to be any progress,--\n",
    "Woman:  Dennis!  There's some lovely filth down 'ere!\n",
    "        (noticing Arthur) Oh!  'Ow'd'ja do?\n",
    "Arthur: How do you do, good lady.  I am Arthur, king of the Britons.  Whose\n",
    "        castle is that?\n",
    "Woman:  King of the 'oo?\n",
    "Arthur: King of the Britons.\n",
    "Woman:  'Oo are the Britons?\n",
    "Arthur: Well we all are!  We are all Britons!  And I am your king.\n",
    "Woman:  I didn't know we 'ad a king!  I thought we were autonomous collective.\n",
    "Man:    (mad)  You're fooling yourself!  We're living in a dictatorship!  A\n",
    "        self-perpetuating autocracy in which the working classes--\n",
    "Woman:  There you go, bringing class into it again...\n",
    "Man:    That's what it's all about!  If only people would--\n",
    "Arthur: Please, *please*, good people, I am in haste!  WHO lives in that\n",
    "        castle?\n",
    "Woman:  No one lives there.\n",
    "Arthur: Then who is your lord?\n",
    "Woman:  We don't have a lord!\n",
    "Arthur: (spurised) What??\n",
    "Man:    I *told* you!  We're an anarcho-syndicalist commune!  We're taking\n",
    "        turns to act as a sort of executive-officer-for-the-week--\n",
    "Arthur: (uninterested) Yes...\n",
    "Man:    But all the decisions *of* that officer 'ave to be ratified at a\n",
    "        special bi-weekly meeting--\n",
    "Arthur: (perturbed) Yes I see!\n",
    "Man:    By a simple majority, in the case of purely internal affairs--\n",
    "Arthur: (mad) Be quiet!\n",
    "Man:    But by a two-thirds majority, in the case of more major--\n",
    "Arthur: (very angry) BE QUIET!  I *order* you to be quiet!\n",
    "Woman:  \"Order\", eh, 'oo does 'e think 'e is?\n",
    "Arthur: I am your king!\n",
    "Woman:  Well I didn't vote for you!\n",
    "Arthur: You don't vote for kings!\n",
    "Woman:  Well 'ow'd you become king then?\n",
    "(holy music up)\n",
    "Arthur: The Lady of the Lake-- her arm clad in the purest shimmering samite,\n",
    "        held aloft Excalibur from the bosom of the water, signifying by\n",
    "        divine providence that I, Arthur, was to carry Excalibur.  THAT is why\n",
    "        I am your king!\n",
    "Man:    (laughingly) Listen: Strange women lying in ponds distributing swords\n",
    "        is no basis for a system of government!  Supreme executive power\n",
    "        derives from a mandate from the masses, not from some... farcical\n",
    "        aquatic ceremony!\n",
    "Arthur: (yelling) BE QUIET!\n",
    "Man:    You can't expect to wield supreme executive power just 'cause some\n",
    "        watery tart threw a sword at you!!\n",
    "Arthur: (coming forward and grabbing the man) Shut *UP*!\n",
    "Man:    I mean, if I went 'round, saying I was an emperor, just because some\n",
    "        moistened bink had lobbed a scimitar at me, they'd put me away!\n",
    "Arthur: (throwing the man around) Shut up, will you, SHUT UP!\n",
    "Man:    Aha!  Now we see the violence inherent in the system!\n",
    "Arthur: SHUT UP!\n",
    "Man:    (yelling to all the other workers) Come and see the violence inherent\n",
    "        in the system!  HELP, HELP, I'M BEING REPRESSED!\n",
    "Arthur: (letting go and walking away)  Bloody PEASANT!\n",
    "Man:    Oh, what a giveaway!  Did'j'hear that, did'j'hear that, eh?  That's\n",
    "        what I'm all about!  Did you see 'im repressing me?  You saw it,\n",
    "        didn't you?!\n",
    "'''\n",
    "\n",
    "count = 0\n",
    "for char in my_string:\n",
    "    if char in \"!@#$%^&*():?.,\":\n",
    "        count += 1\n",
    "\n",
    "print(\"There are\", count, \"punctuation marks!\")\n",
    "        "
   ]
  },
  {
   "cell_type": "markdown",
   "metadata": {},
   "source": [
    "We can use for loops to apply pretty much any code we'd like, including functions."
   ]
  },
  {
   "cell_type": "code",
   "execution_count": 8,
   "metadata": {},
   "outputs": [
    {
     "name": "stdout",
     "output_type": "stream",
     "text": [
      "5 is a prime number.\n",
      "7 is a prime number.\n",
      "11 is a prime number.\n",
      "13 is a prime number.\n",
      "17 is a prime number.\n",
      "19 is a prime number.\n",
      "23 is a prime number.\n"
     ]
    }
   ],
   "source": [
    "def prime(n):\n",
    "    for i in range(2,n):\n",
    "        if n%i == 0:\n",
    "            return(False)\n",
    "    return(True)\n",
    "\n",
    "# prime(269)\n",
    "\n",
    "for i in range(5,25):\n",
    "    if prime(i):\n",
    "        print(i, \"is a prime number.\")\n"
   ]
  },
  {
   "cell_type": "markdown",
   "metadata": {},
   "source": [
    "## Your Turn\n",
    "\n",
    "Use a for loop to loop through the words in the list below, and print out only words that have *all* the vowels in them.\n",
    "\n",
    "<img src=\"https://drive.google.com/uc?export=view&id=1ghyQPx1N8dmU3MV4TrANvqNhGwnLni72\" width = 200px />"
   ]
  },
  {
   "cell_type": "code",
   "execution_count": null,
   "metadata": {},
   "outputs": [],
   "source": [
    "words = [\"adieu\", \"adoulie\" , \"canard\", \"douleia\",\n",
    "         \"gemstone\", \"holistic\", \"eucosia\", \"books\",\n",
    "         \"parking\", \"justify\", \"boring\",\"eulogia\",\n",
    "         \"eunomia\", \"gorgeous\", \"blissful\", \"nocturnal\",\n",
    "         \"blanket\", \"border\",\"eutopia\", \"morose\", \"sided\",\n",
    "         \"miaoued\", \"bountiful\", \"unclean\", \"boisterous\",\n",
    "         \"volatile\", \"germane\", \"listless\", \"fantasy\",\n",
    "         \"inkling\",\"moineau\", \"fondness\", \"saddle\", \"quotient\",\n",
    "         \"sequoia\", \"somber\", \"soliloqy\", \"petrified\",\n",
    "         \"jubilant\", \"docile\",\"suoidea\"]\n",
    "         \n",
    " ### YOUR CODE HERE ###        \n",
    "         \n",
    "         "
   ]
  },
  {
   "cell_type": "markdown",
   "metadata": {},
   "source": [
    "# Functions\n",
    "\n",
    "If you need to review: [Video 1](https://www.youtube.com/watch?v=dU5nyLfq7J0), [Video 2](https://www.youtube.com/watch?v=vp50OR-gwTY)\n",
    "\n",
    "Functions are a way to write multi-use code that can be called over and over in different circumstances. Functions are groups/suites of code that perform a specific calculation given variable inputs. Functions allow us to change the inputs we are operating on through *arguments* which are given to the function when you define and call the function. For example, in the code below which defines the function `square()`, the argument `n` tells us which number to square:"
   ]
  },
  {
   "cell_type": "code",
   "execution_count": null,
   "metadata": {},
   "outputs": [],
   "source": [
    "def square(n):\n",
    "    return(n*n)"
   ]
  },
  {
   "cell_type": "markdown",
   "metadata": {},
   "source": [
    "## Arguments\n",
    "The argument `n` is a variable which will hold whatever number we give the function when calling it. For example, if I want to square the number 7 I would use this code:"
   ]
  },
  {
   "cell_type": "code",
   "execution_count": null,
   "metadata": {},
   "outputs": [],
   "source": [
    "square(7)"
   ]
  },
  {
   "cell_type": "markdown",
   "metadata": {},
   "source": [
    "in this case, `n` will be equal to `7`, and every time we reference `n` in the function code, we will use `7`. We could also use other numbers. For example:"
   ]
  },
  {
   "cell_type": "code",
   "execution_count": null,
   "metadata": {},
   "outputs": [],
   "source": [
    "square(n = 12)"
   ]
  },
  {
   "cell_type": "markdown",
   "metadata": {},
   "source": [
    "Notice that you can explicitly tell python which argument you're setting when calling the function by saying the name of the argument (here: `n`) `=` the value for that argument (here: `12`). \n",
    "\n",
    "\n",
    "## Default Arguments\n",
    "When *defining* a function, you can set *default arguments*, which are values that the function can use if the user does not provide values for that specific argument. For example, in our `square()` function, we can specify that if the user does not provide a value for `n`, then the function should use `n = 1`. We set default arguments by giving the argument a value when *defining* the function."
   ]
  },
  {
   "cell_type": "code",
   "execution_count": null,
   "metadata": {},
   "outputs": [],
   "source": [
    "def square(n = 1):\n",
    "    return(n*n)"
   ]
  },
  {
   "cell_type": "markdown",
   "metadata": {},
   "source": [
    "When defining functions, arguments with NO default must come before arguments with a default. For example in this function that multiplies two numbers, `a` and `b`, the argument `a` must appear first in the parentheses when defining `mult()` because it does NOT have a default value, while `b` does."
   ]
  },
  {
   "cell_type": "code",
   "execution_count": null,
   "metadata": {},
   "outputs": [],
   "source": [
    "def mult(a, b = 2):\n",
    "    return(a * b)"
   ]
  },
  {
   "cell_type": "markdown",
   "metadata": {},
   "source": [
    "Default arguments allow users to call the function without spefifying a value for that argument. For example if we called `square()` as defined in this section *without* an argument, it would return `1`, because it uses the default value of 1 when no value for `n` is given.\n",
    "\n",
    "## Calling vs. Defining Functions\n",
    "\n",
    "When you define a function, you're giving python instructions about what to do *if* you ever call that function. This is why when you write your `def` statement, and run the code, nothing actually outputs. This is because when you run a function definition, you are just asking python to *store* the directions for later. To actually execute the function, you need to *call* it. \n",
    "\n",
    "For example when you run the below cell. Nothing will output."
   ]
  },
  {
   "cell_type": "code",
   "execution_count": null,
   "metadata": {},
   "outputs": [],
   "source": [
    "# FUNCTION DEFINITION\n",
    "\n",
    "def censorDang(sentence):\n",
    "    # this function takes in a sentence as a string and returns the same\n",
    "    # sentence censored for any occurance of the word \"dang\".\n",
    "    \n",
    "    sentence_list = sentence.split()\n",
    "    \n",
    "    for i in range(0,len(sentence_list)):\n",
    "        if sentence_list[i].lower() == \"dang\":\n",
    "            sentence_list[i] = \"****\"\n",
    "            \n",
    "    return(\" \".join(sentence_list))"
   ]
  },
  {
   "cell_type": "markdown",
   "metadata": {},
   "source": [
    "But when you call the function in the following cell, python will actually execute the code and there will be an output."
   ]
  },
  {
   "cell_type": "code",
   "execution_count": null,
   "metadata": {},
   "outputs": [],
   "source": [
    "## FUNCTION CALL\n",
    "\n",
    "censorDang(\"Dang this is good tea.\")"
   ]
  },
  {
   "cell_type": "markdown",
   "metadata": {},
   "source": [
    "Remember that when you're writing a function, the arguments are just placeholders or variables. They don't refer to specific objects/values, they're meant to be malleable. So for example, when I wrote `censorDang()`, I didn't write it with a *specific* sentence in mind. The function should work for any sentence!\n",
    "\n",
    "## Your Turn\n",
    "\n",
    "Write a function, `max_list()` that takes in a list of numbers as an argument, and returns the maximum value of that list.\n",
    "\n",
    "<img src=\"https://drive.google.com/uc?export=view&id=1ghyQPx1N8dmU3MV4TrANvqNhGwnLni72\" width = 200px />"
   ]
  },
  {
   "cell_type": "code",
   "execution_count": null,
   "metadata": {},
   "outputs": [],
   "source": [
    "###"
   ]
  },
  {
   "cell_type": "markdown",
   "metadata": {},
   "source": [
    "Write a function, `q_finder()` that takes in a list of words/strings as an argument, and returns a list of only the words that contain q (upper OR lower case).\n",
    "\n",
    "<img src=\"https://drive.google.com/uc?export=view&id=1ghyQPx1N8dmU3MV4TrANvqNhGwnLni72\" width = 200px />"
   ]
  },
  {
   "cell_type": "code",
   "execution_count": null,
   "metadata": {},
   "outputs": [],
   "source": [
    "###"
   ]
  },
  {
   "cell_type": "markdown",
   "metadata": {},
   "source": [
    "Write a function `cluster_subsetter()` that takes in a data frame (see example below), `df`,  and a string `cluster`, as arguments, and returns a data frame with only the rows who are in the cluster specified by `cluster`.\n",
    "\n",
    "<img src=\"https://drive.google.com/uc?export=view&id=1ghyQPx1N8dmU3MV4TrANvqNhGwnLni72\" width = 200px />"
   ]
  },
  {
   "cell_type": "code",
   "execution_count": null,
   "metadata": {},
   "outputs": [],
   "source": [
    "d = pd.DataFrame({\"x\": np.random.uniform(0,1,size = 100),\n",
    "                 \"y\" : np.random.uniform(0,1,size = 100),\n",
    "                 \"cluster\" : np.repeat([\"A\", \"B\", \"C\"], [50,20,30]) })\n",
    "d\n",
    "# cluster_subsetter(d,\"A\") should return only the rows in d that belong in cluster \"A\"\n",
    "\n",
    "\n",
    "###"
   ]
  },
  {
   "cell_type": "markdown",
   "metadata": {},
   "source": [
    "# List Comprehension\n",
    "\n",
    "## List Comp Intro\n",
    "\n",
    "List comprehension is a way to create lists using iteration, essentially as an alternative to using a for loop. \n",
    "\n",
    "If a for loop looks like this:"
   ]
  },
  {
   "cell_type": "code",
   "execution_count": null,
   "metadata": {},
   "outputs": [],
   "source": [
    "my_list = []\n",
    "\n",
    "for i in range(0,10):\n",
    "    my_list.append(i**2)"
   ]
  },
  {
   "cell_type": "markdown",
   "metadata": {},
   "source": [
    "then the list comprehension would look like this:"
   ]
  },
  {
   "cell_type": "code",
   "execution_count": null,
   "metadata": {},
   "outputs": [],
   "source": [
    "my_list2 = [i**2 for i in range(0,10)]"
   ]
  },
  {
   "cell_type": "markdown",
   "metadata": {},
   "source": [
    "## Other examples:"
   ]
  },
  {
   "cell_type": "markdown",
   "metadata": {},
   "source": [
    "### making a list of all lower case letters in a string"
   ]
  },
  {
   "cell_type": "code",
   "execution_count": null,
   "metadata": {},
   "outputs": [],
   "source": [
    "# for loop\n",
    "censored_list = []\n",
    "\n",
    "s = \"The rain in Spain falls mainly in the plains\"\n",
    "\n",
    "for letter in s:\n",
    "    censored_list.append(letter.lower())"
   ]
  },
  {
   "cell_type": "code",
   "execution_count": null,
   "metadata": {},
   "outputs": [],
   "source": [
    "# list comp\n",
    "\n",
    "censored_list2 = [letter.lower() for letter in s]\n",
    "\n",
    "censored_list == censored_list2"
   ]
  },
  {
   "cell_type": "markdown",
   "metadata": {},
   "source": [
    "### calculating factorials for a bunch of numbers\n"
   ]
  },
  {
   "cell_type": "code",
   "execution_count": null,
   "metadata": {},
   "outputs": [],
   "source": [
    "# for loop\n",
    "\n",
    "factorials = []\n",
    "\n",
    "def factorial(n):\n",
    "    mult = range(1,n+1)\n",
    "    p = 1\n",
    "    for i in mult:\n",
    "        p = p * i\n",
    "    return(p)\n",
    "        \n",
    "n = [2,5,6,10,144]\n",
    "fac = []\n",
    "for num in n:\n",
    "    fac.append(factorial(num))"
   ]
  },
  {
   "cell_type": "code",
   "execution_count": null,
   "metadata": {},
   "outputs": [],
   "source": [
    "# list comp\n",
    "\n",
    "fac2 = [factorial(num) for num in n]\n",
    "\n",
    "fac == fac2"
   ]
  },
  {
   "cell_type": "markdown",
   "metadata": {},
   "source": [
    "### multiplying all possible combos of items from two lists together\n",
    "You can even do combine 2 for loops into 1 list comprehension!\n",
    "\n"
   ]
  },
  {
   "cell_type": "code",
   "execution_count": null,
   "metadata": {
    "code_folding": []
   },
   "outputs": [],
   "source": [
    "# for loop\n",
    "\n",
    "a = [1,2,3,4,5]\n",
    "b = [6,7,3,4,-1]\n",
    "\n",
    "mults = []\n",
    "\n",
    "for i in a:\n",
    "    for j in b:\n",
    "       mults.append(i*j) "
   ]
  },
  {
   "cell_type": "code",
   "execution_count": null,
   "metadata": {
    "code_folding": []
   },
   "outputs": [],
   "source": [
    "# list comp\n",
    "\n",
    "mult2 = [i*j for i in a for j in b]\n",
    "\n",
    "mult == mult2"
   ]
  },
  {
   "cell_type": "markdown",
   "metadata": {},
   "source": [
    "### flattening a list of lists into a single list\n"
   ]
  },
  {
   "cell_type": "code",
   "execution_count": null,
   "metadata": {},
   "outputs": [],
   "source": [
    "# for loop\n",
    "\n",
    "a = [[1,2,3,4,42,4,3,2],[4,2,3,9,5,83,8,2,9,0,3], [4,8,15,16,23,42]]\n",
    "\n",
    "newList = []\n",
    "for sub in a:\n",
    "    for i in sub:\n",
    "        newList.append(i)"
   ]
  },
  {
   "cell_type": "code",
   "execution_count": null,
   "metadata": {},
   "outputs": [],
   "source": [
    "# list comp\n",
    "newList2 = [i for sub in a for i in sub]\n",
    "\n",
    "newList == newList2"
   ]
  },
  {
   "cell_type": "markdown",
   "metadata": {},
   "source": [
    "### making a list of all possible playing cards"
   ]
  },
  {
   "cell_type": "code",
   "execution_count": null,
   "metadata": {},
   "outputs": [],
   "source": [
    "suits = [\"Hearts\", \"Spades\", \"Diamond\", \"Clubs\"]\n",
    "cards = [\"A\",\"K\",\"Q\",\"J\", \"10\", \"9\", \"8\", \"7\", \"6\", \"5\", \"4\", \"3\", \"2\"]\n",
    "\n",
    "deck = []\n",
    "for suit in suits:\n",
    "    for card in cards:\n",
    "        deck.append(suit+card)\n",
    "        \n",
    "        \n",
    "#list comp\n",
    "\n",
    "deck2 = [card + \" of \" + suit for suit in suits for card in cards]\n",
    "\n",
    "print(deck2)\n",
    "\n",
    "deck == deck2"
   ]
  },
  {
   "cell_type": "markdown",
   "metadata": {},
   "source": [
    "### Words with e's\n",
    "\n",
    "You can also include boolean statements like if/else in your list comprehension."
   ]
  },
  {
   "cell_type": "code",
   "execution_count": null,
   "metadata": {},
   "outputs": [],
   "source": [
    "words = [\"Hello\", \"Mother\", \"hello\", \"father\", \"fleas\", \"ticks\", \"mosquitos\", \"really\", \"bother\"]\n",
    "\n",
    "es = []\n",
    "\n",
    "for word in words:\n",
    "    if \"e\" in word.lower():\n",
    "        es.append(word)"
   ]
  },
  {
   "cell_type": "code",
   "execution_count": null,
   "metadata": {},
   "outputs": [],
   "source": [
    "es2 = [word for word in words if \"e\" in word.lower()]\n",
    "\n",
    "es == es2"
   ]
  },
  {
   "cell_type": "markdown",
   "metadata": {},
   "source": [
    "### Using list comp with sklearn\n",
    "\n",
    "You can use list comprehension with all sorts of functions. For example, you can use it to create a bunch of KMeans models and calculate their silhouette scores."
   ]
  },
  {
   "cell_type": "code",
   "execution_count": null,
   "metadata": {},
   "outputs": [],
   "source": [
    "data = pd.read_csv(\"https://raw.githubusercontent.com/cmparlettpelleriti/CPSC392ParlettPelleriti/master/Data/programmers2.csv\")\n",
    "\n",
    "kmod = KMeans()\n",
    "\n",
    "kms = [KMeans(n_clusters = k).fit(data) for k in range(2,10)]\n",
    "\n",
    "silhouettes = [silhouette_score(data,model.predict(data)) for model in kms]\n",
    "\n",
    "# silhouettes = [silhouette_score(data,KMeans(n_clusters = k).fit_predict(data)) for k in range(2,10)]\n",
    "\n",
    "print(silhouettes)\n",
    "\n",
    "print(\"\\nThe maximum silhouette score is: \", max(silhouettes))"
   ]
  },
  {
   "cell_type": "markdown",
   "metadata": {},
   "source": [
    "## Your Turn\n",
    "\n",
    "use the `prime()` function below, as well as list comprehension to create a list called `primes` that contains all the prime numbers between 3 and 1000.\n",
    "<img src=\"https://drive.google.com/uc?export=view&id=1ghyQPx1N8dmU3MV4TrANvqNhGwnLni72\" width = 200px />"
   ]
  },
  {
   "cell_type": "code",
   "execution_count": null,
   "metadata": {},
   "outputs": [],
   "source": [
    "def prime(n = 10):\n",
    "    if n < 2:\n",
    "        return(False)\n",
    "    if n == 2:\n",
    "        return(True)\n",
    "    for div in range(2,n):\n",
    "        if n%div == 0:\n",
    "            return(False)\n",
    "    return(True)\n",
    "\n",
    "primes = ###\n"
   ]
  },
  {
   "cell_type": "markdown",
   "metadata": {},
   "source": [
    "Use list comprehension to turn this list of numbers, into a list of strings (for example if the list is [1,2,3] you want to return [\"1\", \"2\", \"3\"]).\n",
    "<img src=\"https://drive.google.com/uc?export=view&id=1ghyQPx1N8dmU3MV4TrANvqNhGwnLni72\" width = 200px />"
   ]
  },
  {
   "cell_type": "code",
   "execution_count": null,
   "metadata": {},
   "outputs": [],
   "source": [
    "nums = [1,1,3,5,8,13]\n",
    "string_nums = ###"
   ]
  },
  {
   "cell_type": "markdown",
   "metadata": {},
   "source": [
    "Use list comprehension to create a list of ONLY words from `sentence` that have an even number of letters.\n",
    "<img src=\"https://drive.google.com/uc?export=view&id=1ghyQPx1N8dmU3MV4TrANvqNhGwnLni72\" width = 200px />"
   ]
  },
  {
   "cell_type": "code",
   "execution_count": null,
   "metadata": {},
   "outputs": [],
   "source": [
    "sentence = \"Lorem ipsum dolor sit amet consectetur adipiscing elit sed do eiusmod tempor incididunt ut labore et dolore magna aliqua Ut enim ad minim veniam quis nostrud exercitation ullamco laboris nisi ut aliquip ex ea commodo consequat Duis aute irure dolor in reprehenderit in voluptate velit esse cillum dolore eu fugiat nulla pariatur Excepteur sint occaecat cupidatat non proident sunt in culpa qui officia deserunt mollit anim id est laborum\"\n",
    "\n",
    "even_words = ###\n"
   ]
  },
  {
   "cell_type": "markdown",
   "metadata": {},
   "source": [
    "# Pandas Data Frames\n",
    "\n",
    "Data frames are a way to store data in python. It's similar to a single spreadsheet which contains rows (observations) and columns (features).\n",
    "\n",
    "You can grab the size of the data frame with `.shape` which gives you the number of rows, and columns in the data frame.\n",
    "\n",
    "## Exploring a DataFrame"
   ]
  },
  {
   "cell_type": "code",
   "execution_count": null,
   "metadata": {},
   "outputs": [],
   "source": [
    "data = pd.read_csv(\"https://raw.githubusercontent.com/cmparlettpelleriti/CPSC392ParlettPelleriti/master/Data/KMEM4.csv\")\n",
    "\n",
    "data.shape"
   ]
  },
  {
   "cell_type": "markdown",
   "metadata": {},
   "source": [
    "To see a small # of rows of your data frame, use `.head()`"
   ]
  },
  {
   "cell_type": "code",
   "execution_count": null,
   "metadata": {},
   "outputs": [],
   "source": [
    "data.head()"
   ]
  },
  {
   "cell_type": "markdown",
   "metadata": {},
   "source": [
    "## Subsetting a DataFrame\n",
    "To grab columns from a data frame you can use multiple ways:"
   ]
  },
  {
   "cell_type": "code",
   "execution_count": null,
   "metadata": {},
   "outputs": [],
   "source": [
    "data.x"
   ]
  },
  {
   "cell_type": "code",
   "execution_count": null,
   "metadata": {},
   "outputs": [],
   "source": [
    "data[\"x\"]"
   ]
  },
  {
   "cell_type": "code",
   "execution_count": null,
   "metadata": {},
   "outputs": [],
   "source": [
    "data.iloc[:,0]"
   ]
  },
  {
   "cell_type": "code",
   "execution_count": null,
   "metadata": {},
   "outputs": [],
   "source": [
    "data.loc[:, \"x\"]"
   ]
  },
  {
   "cell_type": "markdown",
   "metadata": {},
   "source": [
    "To acces rows from a data frame, we'll often use `.loc[]` or `.iloc[]`. You can remember the difference by telling yourself that the `i` in `.iloc[]` stands for integer/index, because `.iloc[]` takes indices/integers, whereas `.loc[]` can take booleans, and labels/strings.\n",
    "\n",
    "Let's use `.loc[]` to grab rows 19-25 (assuming first row is 0) from `data`."
   ]
  },
  {
   "cell_type": "code",
   "execution_count": null,
   "metadata": {},
   "outputs": [],
   "source": [
    "data.iloc[19:26,] # remember it STARTS from the first number and goes up to BUT NOT INCLUDING the second"
   ]
  },
  {
   "cell_type": "markdown",
   "metadata": {},
   "source": [
    "Now let's grab only the rows where x > 3, and y > 3."
   ]
  },
  {
   "cell_type": "code",
   "execution_count": null,
   "metadata": {},
   "outputs": [],
   "source": [
    "gt3 = (data.x > 3) & (data.y > 3)\n",
    "\n",
    "data.loc[gt3]"
   ]
  },
  {
   "cell_type": "markdown",
   "metadata": {},
   "source": [
    "### Grabbing only Numeric Columns\n",
    "\n",
    "Sometimes we only want the continuous/numeric columns. We can grab them by specifying that we only want columns with numeric types (like ints and floats). BUT BE CAREFUL! Sometimes categorical variables are coded as numbers (e.g. 0,1 or 1,2,3,4...)."
   ]
  },
  {
   "cell_type": "code",
   "execution_count": null,
   "metadata": {},
   "outputs": [],
   "source": [
    "# load in data\n",
    "\n",
    "data2 = pd.read_csv(\"https://raw.githubusercontent.com/cmparlettpelleriti/CPSC392ParlettPelleriti/master/Data/penguins.csv\")\n",
    "\n",
    "# select numeric columns\n",
    "\n",
    "numerics = ['int16', 'int32', 'int64', 'float16', 'float32', 'float64'] # different possible numeric types\n",
    "\n",
    "data2.select_dtypes(include=numerics)\n",
    "\n",
    "# always make sure you CHECK whether any of the columns are ACTUALLY\n",
    "# meant to be categories even though they use integers (e.g. registered to vote = 1, not = 0)"
   ]
  },
  {
   "cell_type": "markdown",
   "metadata": {},
   "source": [
    "### Grabbing columns by Name\n",
    "Sometimes we will have multiple columns that we want that all start with the same word. \n"
   ]
  },
  {
   "cell_type": "code",
   "execution_count": null,
   "metadata": {},
   "outputs": [],
   "source": [
    "# load data\n",
    "tests_and_grades = pd.read_csv(\"https://raw.githubusercontent.com/cmparlettpelleriti/CPSC392ParlettPelleriti/master/Data/tests_and_grades.csv\")\n",
    "\n",
    "print(tests_and_grades.head())\n",
    "\n",
    "# figure out which columns start with the word \"test\"\n",
    "test_col = [col for col in tests_and_grades if col.startswith('test')]\n",
    "\n",
    "print(test_col)\n",
    "\n",
    "# grab only those columns\n",
    "tests_and_grades[test_col]"
   ]
  },
  {
   "cell_type": "markdown",
   "metadata": {},
   "source": [
    "## Data Frame Functions\n",
    "There are TONS of useful data frame functions, so I'll demonstrate just a few:\n"
   ]
  },
  {
   "cell_type": "code",
   "execution_count": null,
   "metadata": {},
   "outputs": [],
   "source": [
    "# grab the mean of columns\n",
    "\n",
    "data.mean()"
   ]
  },
  {
   "cell_type": "code",
   "execution_count": null,
   "metadata": {},
   "outputs": [],
   "source": [
    "# grab the max of the columns\n",
    "\n",
    "data.max()"
   ]
  },
  {
   "cell_type": "code",
   "execution_count": null,
   "metadata": {},
   "outputs": [],
   "source": [
    "# what columns are in my df?\n",
    "\n",
    "data.columns"
   ]
  },
  {
   "cell_type": "markdown",
   "metadata": {},
   "source": [
    "## Cleaning Data\n",
    "\n",
    "Functions to help make your data easier to work with."
   ]
  },
  {
   "cell_type": "code",
   "execution_count": null,
   "metadata": {},
   "outputs": [],
   "source": [
    "# drop missing values\n",
    "\n",
    "data.dropna(inplace = True)\n",
    "data.reset_index(inplace = True) # when you drop rows, their row #s disappear, this corrects the issue\n",
    "\n",
    "#or\n",
    "\n",
    "data.dropna(inplace = True)"
   ]
  },
  {
   "cell_type": "code",
   "execution_count": null,
   "metadata": {},
   "outputs": [],
   "source": [
    "# groupby data frame by cluster assignment and then get the mean for each cluster\n",
    "\n",
    "prog = pd.read_csv(\"https://raw.githubusercontent.com/cmparlettpelleriti/CPSC392ParlettPelleriti/master/Data/programmers.csv\")\n",
    "prog[\"Assignment\"] = np.repeat([\"A\", \"B\", \"C\", \"D\", \"E\"],50)\n",
    "\n",
    "prog.groupby(\"Assignment\").mean() # rows are each cluster, columns represent the different features"
   ]
  },
  {
   "cell_type": "markdown",
   "metadata": {},
   "source": [
    "## Your Turn\n",
    "\n",
    "Using the pandas skills you've learned in class and reviewed here, what is the mean dancibility for each artist in the `popDivas` dataset? Who has the highest average danceability?\n",
    "<img src=\"https://drive.google.com/uc?export=view&id=1ghyQPx1N8dmU3MV4TrANvqNhGwnLni72\" width = 200px />"
   ]
  },
  {
   "cell_type": "code",
   "execution_count": null,
   "metadata": {},
   "outputs": [],
   "source": [
    "popDivas = pd.read_csv(\"https://raw.githubusercontent.com/cmparlettpelleriti/CPSC392ParlettPelleriti/master/Data/PopDivas_data.csv\")\n",
    "popDivas.head()\n",
    "\n",
    "###"
   ]
  },
  {
   "cell_type": "markdown",
   "metadata": {},
   "source": [
    "Grab only the songs that are by Beyonce or Britney Spears, and have an energy score above 0.5.\n",
    "<img src=\"https://drive.google.com/uc?export=view&id=1ghyQPx1N8dmU3MV4TrANvqNhGwnLni72\" width = 200px />"
   ]
  },
  {
   "cell_type": "code",
   "execution_count": null,
   "metadata": {},
   "outputs": [],
   "source": [
    "###"
   ]
  },
  {
   "cell_type": "markdown",
   "metadata": {},
   "source": [
    "# Math with Arrays\n",
    "\n",
    "numpy arrays allow us to do *vectorized* operations. *Vectorized* operations are applied elementwise to each item in an array, rather than to the array as a whole. For example, if we want to get the square of every number in an array, we can say `array**2`. You can see below, that calling `**2` on the array `x` squares each item in `x`."
   ]
  },
  {
   "cell_type": "code",
   "execution_count": null,
   "metadata": {},
   "outputs": [],
   "source": [
    "x = np.array([1,2,3,4,5,10])\n",
    "\n",
    "x**2"
   ]
  },
  {
   "cell_type": "markdown",
   "metadata": {},
   "source": [
    "Similarly we can subtract one array from another `a - b`, which will substract the first element of `b` from the first element of `a`, etc."
   ]
  },
  {
   "cell_type": "code",
   "execution_count": null,
   "metadata": {},
   "outputs": [],
   "source": [
    "a = np.array([1,2,3,4,5])\n",
    "b = np.array([1,4,-2,5,9])\n",
    "\n",
    "a-b"
   ]
  },
  {
   "cell_type": "markdown",
   "metadata": {},
   "source": [
    "## Your Turn\n",
    "\n",
    "Using the array knowledge you just reviewed, multiply the arrays `a` and `b` together and then find the sum of those producs.\n",
    "<img src=\"https://drive.google.com/uc?export=view&id=1ghyQPx1N8dmU3MV4TrANvqNhGwnLni72\" width = 200px />"
   ]
  },
  {
   "cell_type": "code",
   "execution_count": null,
   "metadata": {},
   "outputs": [],
   "source": [
    "###\n"
   ]
  },
  {
   "cell_type": "markdown",
   "metadata": {},
   "source": [
    "# `np.random`\n",
    "\n",
    "`np.random` is a great package that allows us to generate random values from different distributions, or randomly choose items from a collection. The two most common functions we use are `np.random.choice()` and `np.random.normal()`.\n",
    "\n",
    "`np.random.choice()` takes 3 main arguments:\n",
    "\n",
    "- `a`: an array or collection of items to choose from.\n",
    "\n",
    "- `size`: an integer that represents how many items you want to choose/sample from `a`\n",
    "\n",
    "- `replace`: a boolean that tells you whether or not to allow the function to select an item more than once in the sample.\n",
    "\n",
    "\n",
    "`np.random.normal()` takes 3 main arguments as well:\n",
    "\n",
    "- `loc`: the mean of the normal distribution to sample from\n",
    "\n",
    "- `scale`: the standard deviation of the normal distribution to sample from\n",
    "\n",
    "- `size`: the number of samples to draw."
   ]
  },
  {
   "cell_type": "code",
   "execution_count": null,
   "metadata": {},
   "outputs": [],
   "source": [
    "# draw 100 samples from a standard normal distribution with mean = 0, sd = 1\n",
    "\n",
    "samp100 = np.random.normal(0,1,100)\n",
    "\n",
    "samp100"
   ]
  },
  {
   "cell_type": "code",
   "execution_count": null,
   "metadata": {},
   "outputs": [],
   "source": [
    "# draw 657 samples from `my_list` with replacement\n",
    "\n",
    "my_list = range(0,250)\n",
    "\n",
    "samp657 = np.random.choice(my_list, 657, replace = True)\n",
    "samp657"
   ]
  },
  {
   "cell_type": "code",
   "execution_count": null,
   "metadata": {},
   "outputs": [],
   "source": [
    "for i in range(0,10):\n",
    "    np.random.seed(123)\n",
    "    print(list(np.random.choice(range(0,1000), 10, replace = True)))"
   ]
  },
  {
   "cell_type": "markdown",
   "metadata": {},
   "source": [
    "## Your Turn\n",
    "\n",
    "Choose 100 samples from `range(100, 1000)` without replacement.\n",
    "<img src=\"https://drive.google.com/uc?export=view&id=1ghyQPx1N8dmU3MV4TrANvqNhGwnLni72\" width = 200px />"
   ]
  },
  {
   "cell_type": "code",
   "execution_count": null,
   "metadata": {},
   "outputs": [],
   "source": [
    "###"
   ]
  },
  {
   "cell_type": "markdown",
   "metadata": {},
   "source": [
    "Make a data frame with two columns, `x` and `y`. `x` should be created by randomly sampling 100 samples from a normal distribution with mean = 0, and sd = 1. `y` should be created by randomly sampling 100 samples from a normal distribution with mean = 12, sd = 20.\n",
    "<img src=\"https://drive.google.com/uc?export=view&id=1ghyQPx1N8dmU3MV4TrANvqNhGwnLni72\" width = 200px />"
   ]
  },
  {
   "cell_type": "code",
   "execution_count": null,
   "metadata": {},
   "outputs": [],
   "source": [
    "###"
   ]
  }
 ],
 "metadata": {
  "hide_input": false,
  "kernelspec": {
   "display_name": "Python 3",
   "language": "python",
   "name": "python3"
  },
  "language_info": {
   "codemirror_mode": {
    "name": "ipython",
    "version": 3
   },
   "file_extension": ".py",
   "mimetype": "text/x-python",
   "name": "python",
   "nbconvert_exporter": "python",
   "pygments_lexer": "ipython3",
   "version": "3.8.1"
  },
  "toc": {
   "base_numbering": 1,
   "nav_menu": {},
   "number_sections": true,
   "sideBar": true,
   "skip_h1_title": false,
   "title_cell": "Table of Contents",
   "title_sidebar": "Contents",
   "toc_cell": false,
   "toc_position": {},
   "toc_section_display": true,
   "toc_window_display": false
  }
 },
 "nbformat": 4,
 "nbformat_minor": 4
}
